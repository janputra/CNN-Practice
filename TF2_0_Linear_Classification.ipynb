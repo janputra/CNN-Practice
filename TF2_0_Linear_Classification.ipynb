{
  "nbformat": 4,
  "nbformat_minor": 0,
  "metadata": {
    "colab": {
      "name": "TF2.0 Linear Classification.ipynb",
      "provenance": [],
      "collapsed_sections": [],
      "authorship_tag": "ABX9TyPg26K65IomQaaKsTL2Iu+x",
      "include_colab_link": true
    },
    "kernelspec": {
      "name": "python3",
      "display_name": "Python 3"
    }
  },
  "cells": [
    {
      "cell_type": "markdown",
      "metadata": {
        "id": "view-in-github",
        "colab_type": "text"
      },
      "source": [
        "<a href=\"https://colab.research.google.com/github/janputra/Neural-Networks-Practice/blob/main/TF2_0_Linear_Classification.ipynb\" target=\"_parent\"><img src=\"https://colab.research.google.com/assets/colab-badge.svg\" alt=\"Open In Colab\"/></a>"
      ]
    },
    {
      "cell_type": "code",
      "metadata": {
        "id": "O4SucETWXGOJ"
      },
      "source": [
        "import tensorflow as tf"
      ],
      "execution_count": null,
      "outputs": []
    },
    {
      "cell_type": "code",
      "metadata": {
        "id": "3sdKfgm9XZqA",
        "colab": {
          "base_uri": "https://localhost:8080/",
          "height": 35
        },
        "outputId": "2e367599-1c49-4705-a99c-b57e45014d6d"
      },
      "source": [
        "tf.__version__"
      ],
      "execution_count": null,
      "outputs": [
        {
          "output_type": "execute_result",
          "data": {
            "application/vnd.google.colaboratory.intrinsic+json": {
              "type": "string"
            },
            "text/plain": [
              "'2.3.0'"
            ]
          },
          "metadata": {
            "tags": []
          },
          "execution_count": 2
        }
      ]
    },
    {
      "cell_type": "code",
      "metadata": {
        "id": "7Cta2sw9bCWd"
      },
      "source": [
        "from sklearn.datasets import load_breast_cancer"
      ],
      "execution_count": null,
      "outputs": []
    },
    {
      "cell_type": "code",
      "metadata": {
        "id": "0ZLtcE6JbLEA"
      },
      "source": [
        "data = load_breast_cancer()"
      ],
      "execution_count": null,
      "outputs": []
    },
    {
      "cell_type": "code",
      "metadata": {
        "id": "Hp0xg8W0bOpP",
        "colab": {
          "base_uri": "https://localhost:8080/",
          "height": 34
        },
        "outputId": "9d89fcb1-f357-461e-8a4c-bba86e64fe6f"
      },
      "source": [
        "data.keys()"
      ],
      "execution_count": null,
      "outputs": [
        {
          "output_type": "execute_result",
          "data": {
            "text/plain": [
              "dict_keys(['data', 'target', 'target_names', 'DESCR', 'feature_names', 'filename'])"
            ]
          },
          "metadata": {
            "tags": []
          },
          "execution_count": 5
        }
      ]
    },
    {
      "cell_type": "code",
      "metadata": {
        "id": "Qm8QbnDfbXzH",
        "colab": {
          "base_uri": "https://localhost:8080/",
          "height": 34
        },
        "outputId": "3870dfc2-03a0-440e-d842-134e1e9891e1"
      },
      "source": [
        "data.data.shape"
      ],
      "execution_count": null,
      "outputs": [
        {
          "output_type": "execute_result",
          "data": {
            "text/plain": [
              "(569, 30)"
            ]
          },
          "metadata": {
            "tags": []
          },
          "execution_count": 6
        }
      ]
    },
    {
      "cell_type": "code",
      "metadata": {
        "id": "iXQdujI4bqxt",
        "colab": {
          "base_uri": "https://localhost:8080/",
          "height": 459
        },
        "outputId": "95806cd5-bcf0-448a-8e37-f976f715ff34"
      },
      "source": [
        "data.target"
      ],
      "execution_count": null,
      "outputs": [
        {
          "output_type": "execute_result",
          "data": {
            "text/plain": [
              "array([0, 0, 0, 0, 0, 0, 0, 0, 0, 0, 0, 0, 0, 0, 0, 0, 0, 0, 0, 1, 1, 1,\n",
              "       0, 0, 0, 0, 0, 0, 0, 0, 0, 0, 0, 0, 0, 0, 0, 1, 0, 0, 0, 0, 0, 0,\n",
              "       0, 0, 1, 0, 1, 1, 1, 1, 1, 0, 0, 1, 0, 0, 1, 1, 1, 1, 0, 1, 0, 0,\n",
              "       1, 1, 1, 1, 0, 1, 0, 0, 1, 0, 1, 0, 0, 1, 1, 1, 0, 0, 1, 0, 0, 0,\n",
              "       1, 1, 1, 0, 1, 1, 0, 0, 1, 1, 1, 0, 0, 1, 1, 1, 1, 0, 1, 1, 0, 1,\n",
              "       1, 1, 1, 1, 1, 1, 1, 0, 0, 0, 1, 0, 0, 1, 1, 1, 0, 0, 1, 0, 1, 0,\n",
              "       0, 1, 0, 0, 1, 1, 0, 1, 1, 0, 1, 1, 1, 1, 0, 1, 1, 1, 1, 1, 1, 1,\n",
              "       1, 1, 0, 1, 1, 1, 1, 0, 0, 1, 0, 1, 1, 0, 0, 1, 1, 0, 0, 1, 1, 1,\n",
              "       1, 0, 1, 1, 0, 0, 0, 1, 0, 1, 0, 1, 1, 1, 0, 1, 1, 0, 0, 1, 0, 0,\n",
              "       0, 0, 1, 0, 0, 0, 1, 0, 1, 0, 1, 1, 0, 1, 0, 0, 0, 0, 1, 1, 0, 0,\n",
              "       1, 1, 1, 0, 1, 1, 1, 1, 1, 0, 0, 1, 1, 0, 1, 1, 0, 0, 1, 0, 1, 1,\n",
              "       1, 1, 0, 1, 1, 1, 1, 1, 0, 1, 0, 0, 0, 0, 0, 0, 0, 0, 0, 0, 0, 0,\n",
              "       0, 0, 1, 1, 1, 1, 1, 1, 0, 1, 0, 1, 1, 0, 1, 1, 0, 1, 0, 0, 1, 1,\n",
              "       1, 1, 1, 1, 1, 1, 1, 1, 1, 1, 1, 0, 1, 1, 0, 1, 0, 1, 1, 1, 1, 1,\n",
              "       1, 1, 1, 1, 1, 1, 1, 1, 1, 0, 1, 1, 1, 0, 1, 0, 1, 1, 1, 1, 0, 0,\n",
              "       0, 1, 1, 1, 1, 0, 1, 0, 1, 0, 1, 1, 1, 0, 1, 1, 1, 1, 1, 1, 1, 0,\n",
              "       0, 0, 1, 1, 1, 1, 1, 1, 1, 1, 1, 1, 1, 0, 0, 1, 0, 0, 0, 1, 0, 0,\n",
              "       1, 1, 1, 1, 1, 0, 1, 1, 1, 1, 1, 0, 1, 1, 1, 0, 1, 1, 0, 0, 1, 1,\n",
              "       1, 1, 1, 1, 0, 1, 1, 1, 1, 1, 1, 1, 0, 1, 1, 1, 1, 1, 0, 1, 1, 0,\n",
              "       1, 1, 1, 1, 1, 1, 1, 1, 1, 1, 1, 1, 0, 1, 0, 0, 1, 0, 1, 1, 1, 1,\n",
              "       1, 0, 1, 1, 0, 1, 0, 1, 1, 0, 1, 0, 1, 1, 1, 1, 1, 1, 1, 1, 0, 0,\n",
              "       1, 1, 1, 1, 1, 1, 0, 1, 1, 1, 1, 1, 1, 1, 1, 1, 1, 0, 1, 1, 1, 1,\n",
              "       1, 1, 1, 0, 1, 0, 1, 1, 0, 1, 1, 1, 1, 1, 0, 0, 1, 0, 1, 0, 1, 1,\n",
              "       1, 1, 1, 0, 1, 1, 0, 1, 0, 1, 0, 0, 1, 1, 1, 0, 1, 1, 1, 1, 1, 1,\n",
              "       1, 1, 1, 1, 1, 0, 1, 0, 0, 1, 1, 1, 1, 1, 1, 1, 1, 1, 1, 1, 1, 1,\n",
              "       1, 1, 1, 1, 1, 1, 1, 1, 1, 1, 1, 1, 0, 0, 0, 0, 0, 0, 1])"
            ]
          },
          "metadata": {
            "tags": []
          },
          "execution_count": 7
        }
      ]
    },
    {
      "cell_type": "code",
      "metadata": {
        "id": "izpMGT9dbtc6",
        "colab": {
          "base_uri": "https://localhost:8080/",
          "height": 34
        },
        "outputId": "7a5370f7-5c96-469c-88b2-16d1d88e8f31"
      },
      "source": [
        "data.target_names"
      ],
      "execution_count": null,
      "outputs": [
        {
          "output_type": "execute_result",
          "data": {
            "text/plain": [
              "array(['malignant', 'benign'], dtype='<U9')"
            ]
          },
          "metadata": {
            "tags": []
          },
          "execution_count": 8
        }
      ]
    },
    {
      "cell_type": "code",
      "metadata": {
        "id": "sU0GeVPBb1A0",
        "colab": {
          "base_uri": "https://localhost:8080/",
          "height": 187
        },
        "outputId": "ca424290-c104-4e11-ad17-41263fc5bc74"
      },
      "source": [
        "data.feature_names"
      ],
      "execution_count": null,
      "outputs": [
        {
          "output_type": "execute_result",
          "data": {
            "text/plain": [
              "array(['mean radius', 'mean texture', 'mean perimeter', 'mean area',\n",
              "       'mean smoothness', 'mean compactness', 'mean concavity',\n",
              "       'mean concave points', 'mean symmetry', 'mean fractal dimension',\n",
              "       'radius error', 'texture error', 'perimeter error', 'area error',\n",
              "       'smoothness error', 'compactness error', 'concavity error',\n",
              "       'concave points error', 'symmetry error',\n",
              "       'fractal dimension error', 'worst radius', 'worst texture',\n",
              "       'worst perimeter', 'worst area', 'worst smoothness',\n",
              "       'worst compactness', 'worst concavity', 'worst concave points',\n",
              "       'worst symmetry', 'worst fractal dimension'], dtype='<U23')"
            ]
          },
          "metadata": {
            "tags": []
          },
          "execution_count": 9
        }
      ]
    },
    {
      "cell_type": "code",
      "metadata": {
        "id": "1VmzkNnSb8wa"
      },
      "source": [
        "from sklearn.model_selection import train_test_split\n",
        "\n",
        "\n",
        "x_train, x_test, y_train, y_test =train_test_split(data.data, data.target, test_size=0.25)\n",
        "N,D =x_train.shape"
      ],
      "execution_count": null,
      "outputs": []
    },
    {
      "cell_type": "code",
      "metadata": {
        "id": "fSG52rcMcV9-",
        "colab": {
          "base_uri": "https://localhost:8080/",
          "height": 34
        },
        "outputId": "28f449b4-6218-411e-e1bd-f2507f741d8f"
      },
      "source": [
        "print(N,D)"
      ],
      "execution_count": null,
      "outputs": [
        {
          "output_type": "stream",
          "text": [
            "426 30\n"
          ],
          "name": "stdout"
        }
      ]
    },
    {
      "cell_type": "code",
      "metadata": {
        "id": "IgTEiA9xcbAB"
      },
      "source": [
        "from sklearn.preprocessing import StandardScaler\n",
        "\n",
        "scaler=StandardScaler()\n",
        "\n",
        "x_train = scaler.fit_transform(x_train)\n",
        "x_test= scaler.transform(x_test)\n"
      ],
      "execution_count": null,
      "outputs": []
    },
    {
      "cell_type": "code",
      "metadata": {
        "id": "e-wDcpsucvKh",
        "colab": {
          "base_uri": "https://localhost:8080/",
          "height": 1000
        },
        "outputId": "35c250d1-70ea-4e7f-f014-dd4e610413b8"
      },
      "source": [
        "model= tf.keras.models.Sequential([\n",
        "       tf.keras.layers.Input(shape=(D,)),\n",
        "       tf.keras.layers.Dense(1,activation='sigmoid')                            \n",
        "\n",
        "])\n",
        "\n",
        "\n",
        "model.compile(optimizer='adam', loss='binary_crossentropy',metrics=['accuracy'])\n",
        "\n",
        "\n",
        "r= model.fit(x_train, y_train,validation_data=(x_test,y_test), epochs=100)\n",
        "\n",
        "\n",
        "print(\"Train score\", model.evaluate(x_train, y_train))\n",
        "print(\"Train score\", model.evaluate(x_test, y_test))"
      ],
      "execution_count": null,
      "outputs": [
        {
          "output_type": "stream",
          "text": [
            "Epoch 1/100\n",
            "14/14 [==============================] - 0s 12ms/step - loss: 0.6848 - accuracy: 0.5798 - val_loss: 0.6878 - val_accuracy: 0.5734\n",
            "Epoch 2/100\n",
            "14/14 [==============================] - 0s 2ms/step - loss: 0.6113 - accuracy: 0.6455 - val_loss: 0.6223 - val_accuracy: 0.6084\n",
            "Epoch 3/100\n",
            "14/14 [==============================] - 0s 2ms/step - loss: 0.5499 - accuracy: 0.7019 - val_loss: 0.5675 - val_accuracy: 0.6643\n",
            "Epoch 4/100\n",
            "14/14 [==============================] - 0s 3ms/step - loss: 0.4980 - accuracy: 0.7465 - val_loss: 0.5230 - val_accuracy: 0.7273\n",
            "Epoch 5/100\n",
            "14/14 [==============================] - 0s 2ms/step - loss: 0.4568 - accuracy: 0.7840 - val_loss: 0.4846 - val_accuracy: 0.7692\n",
            "Epoch 6/100\n",
            "14/14 [==============================] - 0s 2ms/step - loss: 0.4213 - accuracy: 0.8052 - val_loss: 0.4525 - val_accuracy: 0.7972\n",
            "Epoch 7/100\n",
            "14/14 [==============================] - 0s 2ms/step - loss: 0.3906 - accuracy: 0.8333 - val_loss: 0.4258 - val_accuracy: 0.8112\n",
            "Epoch 8/100\n",
            "14/14 [==============================] - 0s 2ms/step - loss: 0.3657 - accuracy: 0.8498 - val_loss: 0.4023 - val_accuracy: 0.8112\n",
            "Epoch 9/100\n",
            "14/14 [==============================] - 0s 2ms/step - loss: 0.3433 - accuracy: 0.8779 - val_loss: 0.3820 - val_accuracy: 0.8322\n",
            "Epoch 10/100\n",
            "14/14 [==============================] - 0s 2ms/step - loss: 0.3241 - accuracy: 0.8850 - val_loss: 0.3643 - val_accuracy: 0.8392\n",
            "Epoch 11/100\n",
            "14/14 [==============================] - 0s 2ms/step - loss: 0.3072 - accuracy: 0.8967 - val_loss: 0.3486 - val_accuracy: 0.8531\n",
            "Epoch 12/100\n",
            "14/14 [==============================] - 0s 2ms/step - loss: 0.2921 - accuracy: 0.9014 - val_loss: 0.3347 - val_accuracy: 0.8531\n",
            "Epoch 13/100\n",
            "14/14 [==============================] - 0s 3ms/step - loss: 0.2790 - accuracy: 0.9038 - val_loss: 0.3217 - val_accuracy: 0.8601\n",
            "Epoch 14/100\n",
            "14/14 [==============================] - 0s 3ms/step - loss: 0.2668 - accuracy: 0.9155 - val_loss: 0.3098 - val_accuracy: 0.8671\n",
            "Epoch 15/100\n",
            "14/14 [==============================] - 0s 3ms/step - loss: 0.2557 - accuracy: 0.9225 - val_loss: 0.2991 - val_accuracy: 0.8811\n",
            "Epoch 16/100\n",
            "14/14 [==============================] - 0s 2ms/step - loss: 0.2459 - accuracy: 0.9249 - val_loss: 0.2895 - val_accuracy: 0.8811\n",
            "Epoch 17/100\n",
            "14/14 [==============================] - 0s 3ms/step - loss: 0.2369 - accuracy: 0.9272 - val_loss: 0.2806 - val_accuracy: 0.8811\n",
            "Epoch 18/100\n",
            "14/14 [==============================] - 0s 2ms/step - loss: 0.2286 - accuracy: 0.9319 - val_loss: 0.2724 - val_accuracy: 0.8881\n",
            "Epoch 19/100\n",
            "14/14 [==============================] - 0s 2ms/step - loss: 0.2211 - accuracy: 0.9390 - val_loss: 0.2646 - val_accuracy: 0.8881\n",
            "Epoch 20/100\n",
            "14/14 [==============================] - 0s 2ms/step - loss: 0.2141 - accuracy: 0.9460 - val_loss: 0.2576 - val_accuracy: 0.8881\n",
            "Epoch 21/100\n",
            "14/14 [==============================] - 0s 2ms/step - loss: 0.2080 - accuracy: 0.9460 - val_loss: 0.2512 - val_accuracy: 0.8881\n",
            "Epoch 22/100\n",
            "14/14 [==============================] - 0s 2ms/step - loss: 0.2021 - accuracy: 0.9484 - val_loss: 0.2449 - val_accuracy: 0.8951\n",
            "Epoch 23/100\n",
            "14/14 [==============================] - 0s 2ms/step - loss: 0.1964 - accuracy: 0.9507 - val_loss: 0.2393 - val_accuracy: 0.8951\n",
            "Epoch 24/100\n",
            "14/14 [==============================] - 0s 2ms/step - loss: 0.1915 - accuracy: 0.9507 - val_loss: 0.2337 - val_accuracy: 0.8951\n",
            "Epoch 25/100\n",
            "14/14 [==============================] - 0s 2ms/step - loss: 0.1866 - accuracy: 0.9507 - val_loss: 0.2288 - val_accuracy: 0.9021\n",
            "Epoch 26/100\n",
            "14/14 [==============================] - 0s 3ms/step - loss: 0.1820 - accuracy: 0.9507 - val_loss: 0.2239 - val_accuracy: 0.9091\n",
            "Epoch 27/100\n",
            "14/14 [==============================] - 0s 2ms/step - loss: 0.1780 - accuracy: 0.9577 - val_loss: 0.2192 - val_accuracy: 0.9091\n",
            "Epoch 28/100\n",
            "14/14 [==============================] - 0s 2ms/step - loss: 0.1740 - accuracy: 0.9601 - val_loss: 0.2149 - val_accuracy: 0.9091\n",
            "Epoch 29/100\n",
            "14/14 [==============================] - 0s 2ms/step - loss: 0.1702 - accuracy: 0.9648 - val_loss: 0.2108 - val_accuracy: 0.9091\n",
            "Epoch 30/100\n",
            "14/14 [==============================] - 0s 2ms/step - loss: 0.1667 - accuracy: 0.9648 - val_loss: 0.2068 - val_accuracy: 0.9091\n",
            "Epoch 31/100\n",
            "14/14 [==============================] - 0s 3ms/step - loss: 0.1635 - accuracy: 0.9648 - val_loss: 0.2031 - val_accuracy: 0.9091\n",
            "Epoch 32/100\n",
            "14/14 [==============================] - 0s 3ms/step - loss: 0.1604 - accuracy: 0.9648 - val_loss: 0.1995 - val_accuracy: 0.9091\n",
            "Epoch 33/100\n",
            "14/14 [==============================] - 0s 2ms/step - loss: 0.1574 - accuracy: 0.9648 - val_loss: 0.1961 - val_accuracy: 0.9091\n",
            "Epoch 34/100\n",
            "14/14 [==============================] - 0s 3ms/step - loss: 0.1546 - accuracy: 0.9648 - val_loss: 0.1926 - val_accuracy: 0.9091\n",
            "Epoch 35/100\n",
            "14/14 [==============================] - 0s 3ms/step - loss: 0.1519 - accuracy: 0.9648 - val_loss: 0.1894 - val_accuracy: 0.9091\n",
            "Epoch 36/100\n",
            "14/14 [==============================] - 0s 2ms/step - loss: 0.1494 - accuracy: 0.9648 - val_loss: 0.1865 - val_accuracy: 0.9091\n",
            "Epoch 37/100\n",
            "14/14 [==============================] - 0s 2ms/step - loss: 0.1469 - accuracy: 0.9671 - val_loss: 0.1835 - val_accuracy: 0.9091\n",
            "Epoch 38/100\n",
            "14/14 [==============================] - 0s 2ms/step - loss: 0.1446 - accuracy: 0.9695 - val_loss: 0.1807 - val_accuracy: 0.9161\n",
            "Epoch 39/100\n",
            "14/14 [==============================] - 0s 2ms/step - loss: 0.1425 - accuracy: 0.9695 - val_loss: 0.1780 - val_accuracy: 0.9161\n",
            "Epoch 40/100\n",
            "14/14 [==============================] - 0s 2ms/step - loss: 0.1402 - accuracy: 0.9695 - val_loss: 0.1755 - val_accuracy: 0.9161\n",
            "Epoch 41/100\n",
            "14/14 [==============================] - 0s 2ms/step - loss: 0.1383 - accuracy: 0.9695 - val_loss: 0.1729 - val_accuracy: 0.9231\n",
            "Epoch 42/100\n",
            "14/14 [==============================] - 0s 2ms/step - loss: 0.1363 - accuracy: 0.9695 - val_loss: 0.1706 - val_accuracy: 0.9301\n",
            "Epoch 43/100\n",
            "14/14 [==============================] - 0s 2ms/step - loss: 0.1345 - accuracy: 0.9695 - val_loss: 0.1683 - val_accuracy: 0.9301\n",
            "Epoch 44/100\n",
            "14/14 [==============================] - 0s 2ms/step - loss: 0.1328 - accuracy: 0.9718 - val_loss: 0.1662 - val_accuracy: 0.9371\n",
            "Epoch 45/100\n",
            "14/14 [==============================] - 0s 2ms/step - loss: 0.1311 - accuracy: 0.9718 - val_loss: 0.1640 - val_accuracy: 0.9510\n",
            "Epoch 46/100\n",
            "14/14 [==============================] - 0s 2ms/step - loss: 0.1295 - accuracy: 0.9765 - val_loss: 0.1619 - val_accuracy: 0.9580\n",
            "Epoch 47/100\n",
            "14/14 [==============================] - 0s 2ms/step - loss: 0.1279 - accuracy: 0.9765 - val_loss: 0.1598 - val_accuracy: 0.9650\n",
            "Epoch 48/100\n",
            "14/14 [==============================] - 0s 2ms/step - loss: 0.1264 - accuracy: 0.9765 - val_loss: 0.1579 - val_accuracy: 0.9580\n",
            "Epoch 49/100\n",
            "14/14 [==============================] - 0s 2ms/step - loss: 0.1250 - accuracy: 0.9765 - val_loss: 0.1561 - val_accuracy: 0.9650\n",
            "Epoch 50/100\n",
            "14/14 [==============================] - 0s 2ms/step - loss: 0.1237 - accuracy: 0.9765 - val_loss: 0.1542 - val_accuracy: 0.9650\n",
            "Epoch 51/100\n",
            "14/14 [==============================] - 0s 2ms/step - loss: 0.1223 - accuracy: 0.9765 - val_loss: 0.1525 - val_accuracy: 0.9650\n",
            "Epoch 52/100\n",
            "14/14 [==============================] - 0s 2ms/step - loss: 0.1210 - accuracy: 0.9765 - val_loss: 0.1508 - val_accuracy: 0.9650\n",
            "Epoch 53/100\n",
            "14/14 [==============================] - 0s 2ms/step - loss: 0.1198 - accuracy: 0.9765 - val_loss: 0.1491 - val_accuracy: 0.9650\n",
            "Epoch 54/100\n",
            "14/14 [==============================] - 0s 2ms/step - loss: 0.1186 - accuracy: 0.9765 - val_loss: 0.1475 - val_accuracy: 0.9650\n",
            "Epoch 55/100\n",
            "14/14 [==============================] - 0s 2ms/step - loss: 0.1174 - accuracy: 0.9765 - val_loss: 0.1460 - val_accuracy: 0.9650\n",
            "Epoch 56/100\n",
            "14/14 [==============================] - 0s 2ms/step - loss: 0.1164 - accuracy: 0.9765 - val_loss: 0.1443 - val_accuracy: 0.9650\n",
            "Epoch 57/100\n",
            "14/14 [==============================] - 0s 2ms/step - loss: 0.1153 - accuracy: 0.9765 - val_loss: 0.1429 - val_accuracy: 0.9650\n",
            "Epoch 58/100\n",
            "14/14 [==============================] - 0s 2ms/step - loss: 0.1143 - accuracy: 0.9765 - val_loss: 0.1415 - val_accuracy: 0.9650\n",
            "Epoch 59/100\n",
            "14/14 [==============================] - 0s 2ms/step - loss: 0.1132 - accuracy: 0.9765 - val_loss: 0.1400 - val_accuracy: 0.9650\n",
            "Epoch 60/100\n",
            "14/14 [==============================] - 0s 2ms/step - loss: 0.1123 - accuracy: 0.9789 - val_loss: 0.1387 - val_accuracy: 0.9650\n",
            "Epoch 61/100\n",
            "14/14 [==============================] - 0s 2ms/step - loss: 0.1113 - accuracy: 0.9789 - val_loss: 0.1373 - val_accuracy: 0.9650\n",
            "Epoch 62/100\n",
            "14/14 [==============================] - 0s 2ms/step - loss: 0.1104 - accuracy: 0.9789 - val_loss: 0.1361 - val_accuracy: 0.9650\n",
            "Epoch 63/100\n",
            "14/14 [==============================] - 0s 3ms/step - loss: 0.1095 - accuracy: 0.9789 - val_loss: 0.1347 - val_accuracy: 0.9650\n",
            "Epoch 64/100\n",
            "14/14 [==============================] - 0s 3ms/step - loss: 0.1086 - accuracy: 0.9789 - val_loss: 0.1336 - val_accuracy: 0.9650\n",
            "Epoch 65/100\n",
            "14/14 [==============================] - 0s 2ms/step - loss: 0.1078 - accuracy: 0.9789 - val_loss: 0.1325 - val_accuracy: 0.9650\n",
            "Epoch 66/100\n",
            "14/14 [==============================] - 0s 3ms/step - loss: 0.1070 - accuracy: 0.9789 - val_loss: 0.1312 - val_accuracy: 0.9650\n",
            "Epoch 67/100\n",
            "14/14 [==============================] - 0s 2ms/step - loss: 0.1062 - accuracy: 0.9789 - val_loss: 0.1302 - val_accuracy: 0.9650\n",
            "Epoch 68/100\n",
            "14/14 [==============================] - 0s 2ms/step - loss: 0.1054 - accuracy: 0.9789 - val_loss: 0.1290 - val_accuracy: 0.9650\n",
            "Epoch 69/100\n",
            "14/14 [==============================] - 0s 2ms/step - loss: 0.1046 - accuracy: 0.9789 - val_loss: 0.1277 - val_accuracy: 0.9650\n",
            "Epoch 70/100\n",
            "14/14 [==============================] - 0s 2ms/step - loss: 0.1039 - accuracy: 0.9789 - val_loss: 0.1264 - val_accuracy: 0.9650\n",
            "Epoch 71/100\n",
            "14/14 [==============================] - 0s 2ms/step - loss: 0.1032 - accuracy: 0.9789 - val_loss: 0.1254 - val_accuracy: 0.9650\n",
            "Epoch 72/100\n",
            "14/14 [==============================] - 0s 2ms/step - loss: 0.1026 - accuracy: 0.9789 - val_loss: 0.1244 - val_accuracy: 0.9650\n",
            "Epoch 73/100\n",
            "14/14 [==============================] - 0s 2ms/step - loss: 0.1019 - accuracy: 0.9789 - val_loss: 0.1234 - val_accuracy: 0.9650\n",
            "Epoch 74/100\n",
            "14/14 [==============================] - 0s 2ms/step - loss: 0.1013 - accuracy: 0.9789 - val_loss: 0.1224 - val_accuracy: 0.9650\n",
            "Epoch 75/100\n",
            "14/14 [==============================] - 0s 2ms/step - loss: 0.1006 - accuracy: 0.9812 - val_loss: 0.1213 - val_accuracy: 0.9650\n",
            "Epoch 76/100\n",
            "14/14 [==============================] - 0s 2ms/step - loss: 0.1000 - accuracy: 0.9812 - val_loss: 0.1204 - val_accuracy: 0.9650\n",
            "Epoch 77/100\n",
            "14/14 [==============================] - 0s 2ms/step - loss: 0.0994 - accuracy: 0.9789 - val_loss: 0.1195 - val_accuracy: 0.9650\n",
            "Epoch 78/100\n",
            "14/14 [==============================] - 0s 2ms/step - loss: 0.0989 - accuracy: 0.9789 - val_loss: 0.1187 - val_accuracy: 0.9650\n",
            "Epoch 79/100\n",
            "14/14 [==============================] - 0s 2ms/step - loss: 0.0983 - accuracy: 0.9789 - val_loss: 0.1179 - val_accuracy: 0.9650\n",
            "Epoch 80/100\n",
            "14/14 [==============================] - 0s 2ms/step - loss: 0.0977 - accuracy: 0.9789 - val_loss: 0.1170 - val_accuracy: 0.9650\n",
            "Epoch 81/100\n",
            "14/14 [==============================] - 0s 2ms/step - loss: 0.0972 - accuracy: 0.9789 - val_loss: 0.1161 - val_accuracy: 0.9650\n",
            "Epoch 82/100\n",
            "14/14 [==============================] - 0s 2ms/step - loss: 0.0966 - accuracy: 0.9789 - val_loss: 0.1154 - val_accuracy: 0.9650\n",
            "Epoch 83/100\n",
            "14/14 [==============================] - 0s 2ms/step - loss: 0.0961 - accuracy: 0.9789 - val_loss: 0.1146 - val_accuracy: 0.9650\n",
            "Epoch 84/100\n",
            "14/14 [==============================] - 0s 2ms/step - loss: 0.0956 - accuracy: 0.9789 - val_loss: 0.1139 - val_accuracy: 0.9650\n",
            "Epoch 85/100\n",
            "14/14 [==============================] - 0s 2ms/step - loss: 0.0951 - accuracy: 0.9789 - val_loss: 0.1131 - val_accuracy: 0.9650\n",
            "Epoch 86/100\n",
            "14/14 [==============================] - 0s 2ms/step - loss: 0.0946 - accuracy: 0.9789 - val_loss: 0.1122 - val_accuracy: 0.9650\n",
            "Epoch 87/100\n",
            "14/14 [==============================] - 0s 2ms/step - loss: 0.0941 - accuracy: 0.9812 - val_loss: 0.1113 - val_accuracy: 0.9650\n",
            "Epoch 88/100\n",
            "14/14 [==============================] - 0s 2ms/step - loss: 0.0936 - accuracy: 0.9812 - val_loss: 0.1106 - val_accuracy: 0.9650\n",
            "Epoch 89/100\n",
            "14/14 [==============================] - 0s 2ms/step - loss: 0.0931 - accuracy: 0.9812 - val_loss: 0.1099 - val_accuracy: 0.9650\n",
            "Epoch 90/100\n",
            "14/14 [==============================] - 0s 2ms/step - loss: 0.0926 - accuracy: 0.9812 - val_loss: 0.1091 - val_accuracy: 0.9650\n",
            "Epoch 91/100\n",
            "14/14 [==============================] - 0s 3ms/step - loss: 0.0922 - accuracy: 0.9812 - val_loss: 0.1085 - val_accuracy: 0.9650\n",
            "Epoch 92/100\n",
            "14/14 [==============================] - 0s 2ms/step - loss: 0.0917 - accuracy: 0.9812 - val_loss: 0.1078 - val_accuracy: 0.9650\n",
            "Epoch 93/100\n",
            "14/14 [==============================] - 0s 2ms/step - loss: 0.0913 - accuracy: 0.9812 - val_loss: 0.1071 - val_accuracy: 0.9650\n",
            "Epoch 94/100\n",
            "14/14 [==============================] - 0s 2ms/step - loss: 0.0909 - accuracy: 0.9789 - val_loss: 0.1065 - val_accuracy: 0.9650\n",
            "Epoch 95/100\n",
            "14/14 [==============================] - 0s 3ms/step - loss: 0.0905 - accuracy: 0.9789 - val_loss: 0.1059 - val_accuracy: 0.9650\n",
            "Epoch 96/100\n",
            "14/14 [==============================] - 0s 2ms/step - loss: 0.0901 - accuracy: 0.9789 - val_loss: 0.1052 - val_accuracy: 0.9650\n",
            "Epoch 97/100\n",
            "14/14 [==============================] - 0s 2ms/step - loss: 0.0898 - accuracy: 0.9812 - val_loss: 0.1046 - val_accuracy: 0.9650\n",
            "Epoch 98/100\n",
            "14/14 [==============================] - 0s 2ms/step - loss: 0.0894 - accuracy: 0.9812 - val_loss: 0.1041 - val_accuracy: 0.9650\n",
            "Epoch 99/100\n",
            "14/14 [==============================] - 0s 2ms/step - loss: 0.0890 - accuracy: 0.9812 - val_loss: 0.1035 - val_accuracy: 0.9650\n",
            "Epoch 100/100\n",
            "14/14 [==============================] - 0s 2ms/step - loss: 0.0886 - accuracy: 0.9812 - val_loss: 0.1028 - val_accuracy: 0.9650\n",
            "14/14 [==============================] - 0s 911us/step - loss: 0.0884 - accuracy: 0.9812\n",
            "Train score [0.08836494386196136, 0.9812206625938416]\n",
            "5/5 [==============================] - 0s 2ms/step - loss: 0.1028 - accuracy: 0.9650\n",
            "Train score [0.10281522572040558, 0.9650349617004395]\n"
          ],
          "name": "stdout"
        }
      ]
    },
    {
      "cell_type": "markdown",
      "metadata": {
        "id": "tQUveH16ez83"
      },
      "source": [
        ""
      ]
    },
    {
      "cell_type": "code",
      "metadata": {
        "id": "S-jR_Rxseci4",
        "colab": {
          "base_uri": "https://localhost:8080/",
          "height": 282
        },
        "outputId": "698147da-1679-4601-b42a-62d64bf9e8bb"
      },
      "source": [
        "import matplotlib.pyplot as plt\n",
        "plt.plot(r.history['loss'], label='loss')\n",
        "plt.plot(r.history['val_loss'], label='val_loss')\n",
        "plt.legend()"
      ],
      "execution_count": null,
      "outputs": [
        {
          "output_type": "execute_result",
          "data": {
            "text/plain": [
              "<matplotlib.legend.Legend at 0x7f7f5931dcc0>"
            ]
          },
          "metadata": {
            "tags": []
          },
          "execution_count": 16
        },
        {
          "output_type": "display_data",
          "data": {
            "image/png": "[encoded data removed]",
            "text/plain": [
              "<Figure size 432x288 with 1 Axes>"
            ]
          },
          "metadata": {
            "tags": [],
            "needs_background": "light"
          }
        }
      ]
    },
    {
      "cell_type": "code",
      "metadata": {
        "id": "71rO9UhsesEF",
        "colab": {
          "base_uri": "https://localhost:8080/",
          "height": 286
        },
        "outputId": "afa8e9b7-c24f-40ac-cfb5-c795bd3b3af3"
      },
      "source": [
        "plt.plot(r.history['accuracy'], label='accuracy')\n",
        "plt.plot(r.history['val_accuracy'], label='val_accuracy')\n",
        "plt.legend()"
      ],
      "execution_count": null,
      "outputs": [
        {
          "output_type": "execute_result",
          "data": {
            "text/plain": [
              "<matplotlib.legend.Legend at 0x7f7f57d9f0b8>"
            ]
          },
          "metadata": {
            "tags": []
          },
          "execution_count": 17
        },
        {
          "output_type": "display_data",
          "data": {
            "image/png": "[encoded data removed]",
            "text/plain": [
              "<Figure size 432x288 with 1 Axes>"
            ]
          },
          "metadata": {
            "tags": [],
            "needs_background": "light"
          }
        }
      ]
    },
    {
      "cell_type": "code",
      "metadata": {
        "id": "6QFpprqVfeYt"
      },
      "source": [
        ""
      ],
      "execution_count": null,
      "outputs": []
    }
  ]
}