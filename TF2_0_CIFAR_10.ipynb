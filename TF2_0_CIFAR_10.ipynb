{
  "nbformat": 4,
  "nbformat_minor": 0,
  "metadata": {
    "colab": {
      "name": "TF2.0 CIFAR-10.ipynb",
      "provenance": [],
      "authorship_tag": "ABX9TyO4A+Y/tRmX/WGiDk9/3aGv",
      "include_colab_link": true
    },
    "kernelspec": {
      "name": "python3",
      "display_name": "Python 3"
    },
    "accelerator": "GPU"
  },
  "cells": [
    {
      "cell_type": "markdown",
      "metadata": {
        "id": "view-in-github",
        "colab_type": "text"
      },
      "source": [
        "<a href=\"https://colab.research.google.com/github/janputra/Neural-Networks-Practice/blob/main/TF2_0_CIFAR_10.ipynb\" target=\"_parent\"><img src=\"https://colab.research.google.com/assets/colab-badge.svg\" alt=\"Open In Colab\"/></a>"
      ]
    },
    {
      "cell_type": "code",
      "metadata": {
        "id": "aE6xMEWgscOz"
      },
      "source": [
        "import tensorflow as tf\n",
        "import numpy as np\n",
        "import matplotlib.pyplot as plt\n",
        "from tensorflow.keras.layers import Input, Conv2D, MaxPooling2D, Dropout, Dense, Flatten\n",
        "from tensorflow.keras.models import Model"
      ],
      "execution_count": null,
      "outputs": []
    },
    {
      "cell_type": "code",
      "metadata": {
        "id": "57U5Gy1vs_WY",
        "colab": {
          "base_uri": "https://localhost:8080/",
          "height": 51
        },
        "outputId": "1d3f1883-4839-429c-aeb7-22d7a1414aef"
      },
      "source": [
        "cifar10= tf.keras.datasets.cifar10\n",
        "\n",
        "(x_train, y_train), (x_test, y_test)= cifar10.load_data()\n",
        "x_train, x_test=x_train/255.0, x_test/255.0\n",
        "y_train, y_test= y_train.flatten(), y_test.flatten()\n",
        "print('x_train shape :', x_train.shape)\n",
        "print('y_train shape :', y_train.shape)"
      ],
      "execution_count": null,
      "outputs": [
        {
          "output_type": "stream",
          "text": [
            "x_train shape : (50000, 32, 32, 3)\n",
            "y_train shape : (50000,)\n"
          ],
          "name": "stdout"
        }
      ]
    },
    {
      "cell_type": "code",
      "metadata": {
        "id": "clnYVbButqft",
        "colab": {
          "base_uri": "https://localhost:8080/",
          "height": 34
        },
        "outputId": "3ad17bf2-b779-4b35-f2cd-6b71816d0d43"
      },
      "source": [
        "K= len(set(y_train))\n",
        "print('Number of Class : ',K)"
      ],
      "execution_count": null,
      "outputs": [
        {
          "output_type": "stream",
          "text": [
            "Number of Class :  10\n"
          ],
          "name": "stdout"
        }
      ]
    },
    {
      "cell_type": "code",
      "metadata": {
        "id": "x7PZmlbxt04t"
      },
      "source": [
        "i=Input(shape=x_train[0].shape)\n",
        "x= Conv2D(32,(3,3), padding='same',activation='relu')(i)\n",
        "x= MaxPooling2D((2,2))(x)\n",
        "x= Conv2D(64,(3,3), padding='same',activation='relu')(x)\n",
        "x= MaxPooling2D((2,2))(x)\n",
        "x= Conv2D(128,(3,3), padding='same',activation='relu')(x)\n",
        "x= MaxPooling2D((2,2))(x)\n",
        "x= Flatten()(x)\n",
        "x=Dropout(0.2)(x)\n",
        "x= Dense(1024,activation='relu')(x)\n",
        "x=Dropout(0.2)(x)\n",
        "x= Dense(512,activation='relu')(x)\n",
        "x=Dropout(0.2)(x)\n",
        "x=Dense(K, activation='softmax')(x)\n",
        "\n",
        "model= Model(i,x)"
      ],
      "execution_count": null,
      "outputs": []
    },
    {
      "cell_type": "code",
      "metadata": {
        "id": "ty5g3EGBur7y",
        "colab": {
          "base_uri": "https://localhost:8080/",
          "height": 547
        },
        "outputId": "3b577687-7ed7-4966-f585-88cbf9af68a6"
      },
      "source": [
        "model.compile(optimizer='adam', loss='sparse_categorical_crossentropy',metrics=['accuracy'])\n",
        "r=model.fit(x_train,y_train,validation_data=(x_test,y_test),epochs=15)"
      ],
      "execution_count": null,
      "outputs": [
        {
          "output_type": "stream",
          "text": [
            "Epoch 1/15\n",
            "1563/1563 [==============================] - 7s 4ms/step - loss: 1.4383 - accuracy: 0.4750 - val_loss: 1.1241 - val_accuracy: 0.5959\n",
            "Epoch 2/15\n",
            "1563/1563 [==============================] - 6s 4ms/step - loss: 1.0090 - accuracy: 0.6437 - val_loss: 0.9277 - val_accuracy: 0.6807\n",
            "Epoch 3/15\n",
            "1563/1563 [==============================] - 6s 4ms/step - loss: 0.8398 - accuracy: 0.7052 - val_loss: 0.8363 - val_accuracy: 0.7054\n",
            "Epoch 4/15\n",
            "1563/1563 [==============================] - 6s 4ms/step - loss: 0.7319 - accuracy: 0.7432 - val_loss: 0.7602 - val_accuracy: 0.7321\n",
            "Epoch 5/15\n",
            "1563/1563 [==============================] - 6s 4ms/step - loss: 0.6386 - accuracy: 0.7751 - val_loss: 0.7114 - val_accuracy: 0.7538\n",
            "Epoch 6/15\n",
            "1563/1563 [==============================] - 6s 4ms/step - loss: 0.5711 - accuracy: 0.7985 - val_loss: 0.7277 - val_accuracy: 0.7543\n",
            "Epoch 7/15\n",
            "1563/1563 [==============================] - 6s 4ms/step - loss: 0.5022 - accuracy: 0.8229 - val_loss: 0.7105 - val_accuracy: 0.7611\n",
            "Epoch 8/15\n",
            "1563/1563 [==============================] - 6s 4ms/step - loss: 0.4606 - accuracy: 0.8369 - val_loss: 0.7361 - val_accuracy: 0.7577\n",
            "Epoch 9/15\n",
            "1563/1563 [==============================] - 6s 4ms/step - loss: 0.4098 - accuracy: 0.8562 - val_loss: 0.7774 - val_accuracy: 0.7552\n",
            "Epoch 10/15\n",
            "1563/1563 [==============================] - 6s 4ms/step - loss: 0.3731 - accuracy: 0.8683 - val_loss: 0.7691 - val_accuracy: 0.7692\n",
            "Epoch 11/15\n",
            "1563/1563 [==============================] - 6s 4ms/step - loss: 0.3463 - accuracy: 0.8787 - val_loss: 0.7882 - val_accuracy: 0.7683\n",
            "Epoch 12/15\n",
            "1563/1563 [==============================] - 6s 4ms/step - loss: 0.3182 - accuracy: 0.8875 - val_loss: 0.8286 - val_accuracy: 0.7545\n",
            "Epoch 13/15\n",
            "1563/1563 [==============================] - 6s 4ms/step - loss: 0.2987 - accuracy: 0.8956 - val_loss: 0.8493 - val_accuracy: 0.7665\n",
            "Epoch 14/15\n",
            "1563/1563 [==============================] - 6s 4ms/step - loss: 0.2767 - accuracy: 0.9038 - val_loss: 0.8600 - val_accuracy: 0.7633\n",
            "Epoch 15/15\n",
            "1563/1563 [==============================] - 6s 4ms/step - loss: 0.2623 - accuracy: 0.9102 - val_loss: 0.8606 - val_accuracy: 0.7667\n"
          ],
          "name": "stdout"
        }
      ]
    },
    {
      "cell_type": "code",
      "metadata": {
        "id": "mSW1AFqwvy0z",
        "colab": {
          "base_uri": "https://localhost:8080/",
          "height": 282
        },
        "outputId": "eb9f5d38-f7f4-4b43-85b1-2e8401b830f6"
      },
      "source": [
        "hist =r.history\n",
        "\n",
        "plt.plot(hist['loss'],label='loss')\n",
        "plt.plot(hist['val_loss'],label='val_loss')\n",
        "plt.legend()"
      ],
      "execution_count": null,
      "outputs": [
        {
          "output_type": "execute_result",
          "data": {
            "text/plain": [
              "<matplotlib.legend.Legend at 0x7f3fe433e8d0>"
            ]
          },
          "metadata": {
            "tags": []
          },
          "execution_count": 6
        },
        {
          "output_type": "display_data",
          "data": {
            "image/png": "[encoded data removed]",
            "text/plain": [
              "<Figure size 432x288 with 1 Axes>"
            ]
          },
          "metadata": {
            "tags": [],
            "needs_background": "light"
          }
        }
      ]
    },
    {
      "cell_type": "code",
      "metadata": {
        "id": "K7qg9vW1wWrM",
        "colab": {
          "base_uri": "https://localhost:8080/",
          "height": 282
        },
        "outputId": "2c842269-044d-4d28-ab54-2b470a0a87bb"
      },
      "source": [
        "plt.plot(hist['accuracy'],label='accuracy')\n",
        "plt.plot(hist['val_accuracy'],label='val_accuracy')\n",
        "plt.legend()"
      ],
      "execution_count": null,
      "outputs": [
        {
          "output_type": "execute_result",
          "data": {
            "text/plain": [
              "<matplotlib.legend.Legend at 0x7f3fdf5b2748>"
            ]
          },
          "metadata": {
            "tags": []
          },
          "execution_count": 8
        },
        {
          "output_type": "display_data",
          "data": {
            "image/png": "[encoded data removed]",
            "text/plain": [
              "<Figure size 432x288 with 1 Axes>"
            ]
          },
          "metadata": {
            "tags": [],
            "needs_background": "light"
          }
        }
      ]
    },
    {
      "cell_type": "code",
      "metadata": {
        "id": "HhaJ4lBAqbT7",
        "colab": {
          "base_uri": "https://localhost:8080/",
          "height": 498
        },
        "outputId": "46a2c433-44d6-4dcf-e403-a34db5123c93"
      },
      "source": [
        "#confussion matrix\n",
        "\n",
        "from sklearn.metrics import confusion_matrix\n",
        "import numpy as np\n",
        "import itertools\n",
        "\n",
        "\n",
        "def plot_confusion_matrix(cm, classes, normalize=False, title='Confusion Matrix', cmap=plt.cm.Blues):\n",
        "\n",
        "\n",
        "  if normalize:\n",
        "    cm= cm.astype('float')/cm.sum(axis=1)[:,np.newaxis]\n",
        "    print(\"Normalized confusion matrix\")\n",
        "  else:\n",
        "    print('Confusion matrix, without normalization')\n",
        "\n",
        "  print(cm)\n",
        "\n",
        "\n",
        "  plt.imshow(cm, interpolation='nearest',cmap=cmap)\n",
        "  plt.title(title)\n",
        "  plt.colorbar\n",
        "  tick_marks= np.arange(len(classes))\n",
        "\n",
        "  plt.xticks(tick_marks, classes, rotation=45)\n",
        "  plt.yticks(tick_marks, classes)\n",
        "\n",
        "  fmt ='.2f' if normalize else 'd'\n",
        "\n",
        "  thresh = cm.max()/2\n",
        "\n",
        "\n",
        "  for i,j in itertools.product(range(cm.shape[0]),range(cm.shape[1])):\n",
        "      plt.text(j,i,format(cm[i,j],fmt),\n",
        "               horizontalalignment='center',\n",
        "               color='white' if cm[i,j]>thresh else 'black')\n",
        "      \n",
        "  plt.tight_layout()\n",
        "  plt.ylabel('True label')\n",
        "  plt.xlabel('Predicted label')\n",
        "\n",
        "  plt.show()\n",
        "\n",
        "\n",
        "p_test=model.predict(x_test).argmax(axis=1)\n",
        "cm= confusion_matrix(y_test, p_test)\n",
        "\n",
        "plot_confusion_matrix(cm,list(range(10)))"
      ],
      "execution_count": null,
      "outputs": [
        {
          "output_type": "stream",
          "text": [
            "Confusion matrix, without normalization\n",
            "[[771  12  63  20  24  16  10  10  54  20]\n",
            " [  8 878   7  12   5   4  10   3  24  49]\n",
            " [ 35   3 756  34  68  37  35  18  10   4]\n",
            " [ 17   7  90 557  56 153  68  26  15  11]\n",
            " [ 10   2 102  38 727  33  32  47   8   1]\n",
            " [ 10   2  60 152  38 670  30  32   3   3]\n",
            " [  2   2  67  45  36  25 809   2  11   1]\n",
            " [  9   0  54  38  48  43   9 787   6   6]\n",
            " [ 38  14  17   9   7   9   4   2 886  14]\n",
            " [ 23  61  10  11   7   8   7  13  34 826]]\n"
          ],
          "name": "stdout"
        },
        {
          "output_type": "display_data",
          "data": {
            "image/png": "[encoded data removed]",
            "text/plain": [
              "<Figure size 432x288 with 1 Axes>"
            ]
          },
          "metadata": {
            "tags": [],
            "needs_background": "light"
          }
        }
      ]
    },
    {
      "cell_type": "code",
      "metadata": {
        "id": "jlo6WEu1q9mt"
      },
      "source": [
        "# label mapping\n",
        "labels = '''airplane\n",
        "automobile\n",
        "bird\n",
        "cat\n",
        "deer\n",
        "dog\n",
        "frog\n",
        "horse\n",
        "ship\n",
        "truck'''.split()"
      ],
      "execution_count": null,
      "outputs": []
    },
    {
      "cell_type": "code",
      "metadata": {
        "id": "ymOdy0heq2kV",
        "colab": {
          "base_uri": "https://localhost:8080/",
          "height": 298
        },
        "outputId": "672ee08c-02c5-4a17-d7df-ff0630b78ef2"
      },
      "source": [
        "#show misclassified examples\n",
        "\n",
        "misclassified_idx= np.where(p_test!=y_test)[0]\n",
        "i= np.random.choice(misclassified_idx)\n",
        "plt.imshow(x_test[i],cmap='gray')\n",
        "plt.title('True label : %s Predicted : %s' % (labels[y_test[i]],labels[p_test[i]]))"
      ],
      "execution_count": null,
      "outputs": [
        {
          "output_type": "execute_result",
          "data": {
            "text/plain": [
              "Text(0.5, 1.0, 'True label : truck Predicted : frog')"
            ]
          },
          "metadata": {
            "tags": []
          },
          "execution_count": 20
        },
        {
          "output_type": "display_data",
          "data": {
            "image/png": "[encoded data removed]",
            "text/plain": [
              "<Figure size 432x288 with 1 Axes>"
            ]
          },
          "metadata": {
            "tags": [],
            "needs_background": "light"
          }
        }
      ]
    },
    {
      "cell_type": "code",
      "metadata": {
        "id": "o43qdEOOxZjg",
        "colab": {
          "base_uri": "https://localhost:8080/",
          "height": 629
        },
        "outputId": "bef19b5b-9316-4258-8f03-eb76e0f7bf3d"
      },
      "source": [
        "model.summary()"
      ],
      "execution_count": null,
      "outputs": [
        {
          "output_type": "stream",
          "text": [
            "Model: \"functional_1\"\n",
            "_________________________________________________________________\n",
            "Layer (type)                 Output Shape              Param #   \n",
            "=================================================================\n",
            "input_1 (InputLayer)         [(None, 32, 32, 3)]       0         \n",
            "_________________________________________________________________\n",
            "conv2d (Conv2D)              (None, 32, 32, 32)        896       \n",
            "_________________________________________________________________\n",
            "max_pooling2d (MaxPooling2D) (None, 16, 16, 32)        0         \n",
            "_________________________________________________________________\n",
            "conv2d_1 (Conv2D)            (None, 16, 16, 64)        18496     \n",
            "_________________________________________________________________\n",
            "max_pooling2d_1 (MaxPooling2 (None, 8, 8, 64)          0         \n",
            "_________________________________________________________________\n",
            "conv2d_2 (Conv2D)            (None, 8, 8, 128)         73856     \n",
            "_________________________________________________________________\n",
            "max_pooling2d_2 (MaxPooling2 (None, 4, 4, 128)         0         \n",
            "_________________________________________________________________\n",
            "flatten (Flatten)            (None, 2048)              0         \n",
            "_________________________________________________________________\n",
            "dropout (Dropout)            (None, 2048)              0         \n",
            "_________________________________________________________________\n",
            "dense (Dense)                (None, 1024)              2098176   \n",
            "_________________________________________________________________\n",
            "dropout_1 (Dropout)          (None, 1024)              0         \n",
            "_________________________________________________________________\n",
            "dense_1 (Dense)              (None, 512)               524800    \n",
            "_________________________________________________________________\n",
            "dropout_2 (Dropout)          (None, 512)               0         \n",
            "_________________________________________________________________\n",
            "dense_2 (Dense)              (None, 10)                5130      \n",
            "=================================================================\n",
            "Total params: 2,721,354\n",
            "Trainable params: 2,721,354\n",
            "Non-trainable params: 0\n",
            "_________________________________________________________________\n"
          ],
          "name": "stdout"
        }
      ]
    }
  ]
}