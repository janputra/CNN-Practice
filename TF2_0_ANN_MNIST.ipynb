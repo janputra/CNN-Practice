{
  "nbformat": 4,
  "nbformat_minor": 0,
  "metadata": {
    "colab": {
      "name": "TF2.0 ANN MNIST.ipynb",
      "provenance": [],
      "collapsed_sections": [],
      "authorship_tag": "ABX9TyMrkZYHKl6GIIFQjyldqZNb",
      "include_colab_link": true
    },
    "kernelspec": {
      "name": "python3",
      "display_name": "Python 3"
    }
  },
  "cells": [
    {
      "cell_type": "markdown",
      "metadata": {
        "id": "view-in-github",
        "colab_type": "text"
      },
      "source": [
        "<a href=\"https://colab.research.google.com/github/janputra/Nueral-Networks-Practice/blob/main/TF2_0_ANN_MNIST.ipynb\" target=\"_parent\"><img src=\"https://colab.research.google.com/assets/colab-badge.svg\" alt=\"Open In Colab\"/></a>"
      ]
    },
    {
      "cell_type": "code",
      "metadata": {
        "id": "zbPz781hcHsB"
      },
      "source": [
        "import tensorflow as tf\n",
        "import matplotlib.pyplot as plt\n",
        "from tensorflow import keras "
      ],
      "execution_count": null,
      "outputs": []
    },
    {
      "cell_type": "code",
      "metadata": {
        "id": "xw4muyoacNxK",
        "colab": {
          "base_uri": "https://localhost:8080/",
          "height": 51
        },
        "outputId": "ebc58895-0bc4-4caf-950b-8decbe1b9ded"
      },
      "source": [
        "mnist = keras.datasets.mnist\n",
        "\n",
        "(x_train,y_train),(x_test,y_test)= mnist.load_data()\n",
        "\n"
      ],
      "execution_count": null,
      "outputs": [
        {
          "output_type": "stream",
          "text": [
            "Downloading data from https://storage.googleapis.com/tensorflow/tf-keras-datasets/mnist.npz\n",
            "11493376/11490434 [==============================] - 0s 0us/step\n"
          ],
          "name": "stdout"
        }
      ]
    },
    {
      "cell_type": "code",
      "metadata": {
        "id": "QvbuqC20cbna"
      },
      "source": [
        "x_train =x_train/255.0\n",
        "x_test=x_test/255.0\n"
      ],
      "execution_count": null,
      "outputs": []
    },
    {
      "cell_type": "code",
      "metadata": {
        "id": "ivuveHRgcvJV"
      },
      "source": [
        "model= keras.models.Sequential([\n",
        "                              keras.layers.Flatten(input_shape=(28,28)),\n",
        "                              keras.layers.Dense(128,activation='relu'),\n",
        "                              keras.layers.Dropout(0.1),\n",
        "                              keras.layers.Dense(10, activation='softmax')  \n",
        "])\n",
        "\n",
        "\n",
        "\n"
      ],
      "execution_count": null,
      "outputs": []
    },
    {
      "cell_type": "code",
      "metadata": {
        "id": "0OTuX_b-dnQR"
      },
      "source": [
        "model.compile(optimizer='adam', loss='sparse_categorical_crossentropy',metrics=['accuracy'])"
      ],
      "execution_count": null,
      "outputs": []
    },
    {
      "cell_type": "code",
      "metadata": {
        "id": "bDGuiajhd1Y9",
        "colab": {
          "base_uri": "https://localhost:8080/",
          "height": 717
        },
        "outputId": "26741c42-f787-446b-f1d9-17926c415af4"
      },
      "source": [
        "r= model.fit(x_train,y_train , validation_data=(x_test,y_test), epochs=20)"
      ],
      "execution_count": null,
      "outputs": [
        {
          "output_type": "stream",
          "text": [
            "Epoch 1/20\n",
            "1875/1875 [==============================] - 6s 3ms/step - loss: 0.2739 - accuracy: 0.9206 - val_loss: 0.1354 - val_accuracy: 0.9603\n",
            "Epoch 2/20\n",
            "1875/1875 [==============================] - 5s 3ms/step - loss: 0.1259 - accuracy: 0.9624 - val_loss: 0.1002 - val_accuracy: 0.9691\n",
            "Epoch 3/20\n",
            "1875/1875 [==============================] - 6s 3ms/step - loss: 0.0914 - accuracy: 0.9720 - val_loss: 0.0830 - val_accuracy: 0.9754\n",
            "Epoch 4/20\n",
            "1875/1875 [==============================] - 5s 3ms/step - loss: 0.0724 - accuracy: 0.9776 - val_loss: 0.0750 - val_accuracy: 0.9770\n",
            "Epoch 5/20\n",
            "1875/1875 [==============================] - 4s 2ms/step - loss: 0.0599 - accuracy: 0.9814 - val_loss: 0.0695 - val_accuracy: 0.9792\n",
            "Epoch 6/20\n",
            "1875/1875 [==============================] - 4s 2ms/step - loss: 0.0513 - accuracy: 0.9838 - val_loss: 0.0724 - val_accuracy: 0.9782\n",
            "Epoch 7/20\n",
            "1875/1875 [==============================] - 4s 2ms/step - loss: 0.0435 - accuracy: 0.9858 - val_loss: 0.0673 - val_accuracy: 0.9804\n",
            "Epoch 8/20\n",
            "1875/1875 [==============================] - 5s 2ms/step - loss: 0.0385 - accuracy: 0.9873 - val_loss: 0.0766 - val_accuracy: 0.9775\n",
            "Epoch 9/20\n",
            "1875/1875 [==============================] - 5s 2ms/step - loss: 0.0340 - accuracy: 0.9886 - val_loss: 0.0743 - val_accuracy: 0.9782\n",
            "Epoch 10/20\n",
            "1875/1875 [==============================] - 4s 2ms/step - loss: 0.0308 - accuracy: 0.9898 - val_loss: 0.0691 - val_accuracy: 0.9806\n",
            "Epoch 11/20\n",
            "1875/1875 [==============================] - 4s 2ms/step - loss: 0.0272 - accuracy: 0.9914 - val_loss: 0.0758 - val_accuracy: 0.9791\n",
            "Epoch 12/20\n",
            "1875/1875 [==============================] - 4s 2ms/step - loss: 0.0260 - accuracy: 0.9912 - val_loss: 0.0745 - val_accuracy: 0.9802\n",
            "Epoch 13/20\n",
            "1875/1875 [==============================] - 4s 2ms/step - loss: 0.0228 - accuracy: 0.9922 - val_loss: 0.0724 - val_accuracy: 0.9806\n",
            "Epoch 14/20\n",
            "1875/1875 [==============================] - 4s 2ms/step - loss: 0.0226 - accuracy: 0.9919 - val_loss: 0.0726 - val_accuracy: 0.9825\n",
            "Epoch 15/20\n",
            "1875/1875 [==============================] - 4s 2ms/step - loss: 0.0207 - accuracy: 0.9926 - val_loss: 0.0721 - val_accuracy: 0.9822\n",
            "Epoch 16/20\n",
            "1875/1875 [==============================] - 4s 2ms/step - loss: 0.0194 - accuracy: 0.9935 - val_loss: 0.0740 - val_accuracy: 0.9796\n",
            "Epoch 17/20\n",
            "1875/1875 [==============================] - 4s 2ms/step - loss: 0.0196 - accuracy: 0.9935 - val_loss: 0.0773 - val_accuracy: 0.9811\n",
            "Epoch 18/20\n",
            "1875/1875 [==============================] - 4s 2ms/step - loss: 0.0181 - accuracy: 0.9937 - val_loss: 0.0804 - val_accuracy: 0.9804\n",
            "Epoch 19/20\n",
            "1875/1875 [==============================] - 4s 2ms/step - loss: 0.0162 - accuracy: 0.9948 - val_loss: 0.0683 - val_accuracy: 0.9833\n",
            "Epoch 20/20\n",
            "1875/1875 [==============================] - 4s 2ms/step - loss: 0.0157 - accuracy: 0.9948 - val_loss: 0.0811 - val_accuracy: 0.9815\n"
          ],
          "name": "stdout"
        }
      ]
    },
    {
      "cell_type": "code",
      "metadata": {
        "id": "aV3f1TY4efLi",
        "colab": {
          "base_uri": "https://localhost:8080/",
          "height": 282
        },
        "outputId": "2d357927-ef42-422b-d3df-b30da8ff5c3e"
      },
      "source": [
        "loss= r.history['loss']\n",
        "val_loss=r.history['val_loss']\n",
        "\n",
        "plt.plot(loss,label='loss')\n",
        "plt.plot(val_loss,label='val_loss')\n",
        "plt.legend()"
      ],
      "execution_count": null,
      "outputs": [
        {
          "output_type": "execute_result",
          "data": {
            "text/plain": [
              "<matplotlib.legend.Legend at 0x7fc515134eb8>"
            ]
          },
          "metadata": {
            "tags": []
          },
          "execution_count": 12
        },
        {
          "output_type": "display_data",
          "data": {
            "image/png": "[encoded data removed]",
            "text/plain": [
              "<Figure size 432x288 with 1 Axes>"
            ]
          },
          "metadata": {
            "tags": [],
            "needs_background": "light"
          }
        }
      ]
    },
    {
      "cell_type": "code",
      "metadata": {
        "id": "ejK9YAhje1q3",
        "colab": {
          "base_uri": "https://localhost:8080/",
          "height": 282
        },
        "outputId": "5c1efc25-45c3-4632-aa2d-009d8f632109"
      },
      "source": [
        "acc=r.history['accuracy']\n",
        "val_acc=r.history['val_accuracy']\n",
        "\n",
        "plt.plot(acc,label='acc')\n",
        "plt.plot(val_acc,label='val_acc')"
      ],
      "execution_count": null,
      "outputs": [
        {
          "output_type": "execute_result",
          "data": {
            "text/plain": [
              "[<matplotlib.lines.Line2D at 0x7fc5152be6d8>]"
            ]
          },
          "metadata": {
            "tags": []
          },
          "execution_count": 13
        },
        {
          "output_type": "display_data",
          "data": {
            "image/png": "[encoded data removed]",
            "text/plain": [
              "<Figure size 432x288 with 1 Axes>"
            ]
          },
          "metadata": {
            "tags": [],
            "needs_background": "light"
          }
        }
      ]
    },
    {
      "cell_type": "code",
      "metadata": {
        "id": "5VOwVf8VfNIj",
        "colab": {
          "base_uri": "https://localhost:8080/",
          "height": 51
        },
        "outputId": "47ef4d98-41d5-4f8a-e2d5-ef0aeeb15029"
      },
      "source": [
        "print(model.evaluate(x_test,y_test))"
      ],
      "execution_count": null,
      "outputs": [
        {
          "output_type": "stream",
          "text": [
            "313/313 [==============================] - 1s 3ms/step - loss: 0.0811 - accuracy: 0.9815\n",
            "[0.08110003918409348, 0.9815000295639038]\n"
          ],
          "name": "stdout"
        }
      ]
    },
    {
      "cell_type": "code",
      "metadata": {
        "id": "jSlfXUS5i5qw",
        "colab": {
          "base_uri": "https://localhost:8080/",
          "height": 51
        },
        "outputId": "d7bcc86f-a5ac-4739-aee3-147469a67c08"
      },
      "source": [
        "!pip install itertools"
      ],
      "execution_count": null,
      "outputs": [
        {
          "output_type": "stream",
          "text": [
            "\u001b[31mERROR: Could not find a version that satisfies the requirement itertools (from versions: none)\u001b[0m\n",
            "\u001b[31mERROR: No matching distribution found for itertools\u001b[0m\n"
          ],
          "name": "stdout"
        }
      ]
    },
    {
      "cell_type": "code",
      "metadata": {
        "id": "g66Vpu8LfWE-",
        "colab": {
          "base_uri": "https://localhost:8080/",
          "height": 498
        },
        "outputId": "b18f5885-40b8-40bb-ee2d-0d294c7c0d09"
      },
      "source": [
        "#confussion matrix\n",
        "\n",
        "from sklearn.metrics import confusion_matrix\n",
        "import numpy as np\n",
        "import itertools\n",
        "\n",
        "\n",
        "def plot_confusion_matrix(cm, classes, normalize=False, title='Confusion Matrix', cmap=plt.cm.Blues):\n",
        "\n",
        "\n",
        "  if normalize:\n",
        "    cm= cm.astype('float')/cm.sum(axis=1)[:,np.newaxis]\n",
        "    print(\"Normalized confusion matrix\")\n",
        "  else:\n",
        "    print('Confusion matrix, without normalization')\n",
        "\n",
        "  print(cm)\n",
        "\n",
        "\n",
        "  plt.imshow(cm, interpolation='nearest',cmap=cmap)\n",
        "  plt.title(title)\n",
        "  plt.colorbar\n",
        "  tick_marks= np.arange(len(classes))\n",
        "\n",
        "  plt.xticks(tick_marks, classes, rotation=45)\n",
        "  plt.yticks(tick_marks, classes)\n",
        "\n",
        "  fmt ='.2f' if normalize else 'd'\n",
        "\n",
        "  thresh = cm.max()/2\n",
        "\n",
        "\n",
        "  for i,j in itertools.product(range(cm.shape[0]),range(cm.shape[1])):\n",
        "      plt.text(j,i,format(cm[i,j],fmt),\n",
        "               horizontalalignment='center',\n",
        "               color='white' if cm[i,j]>thresh else 'black')\n",
        "      \n",
        "  plt.tight_layout()\n",
        "  plt.ylabel('True label')\n",
        "  plt.xlabel('Predicted label')\n",
        "\n",
        "  plt.show()\n",
        "\n",
        "\n",
        "p_test=model.predict(x_test).argmax(axis=1)\n",
        "cm= confusion_matrix(y_test, p_test)\n",
        "\n",
        "plot_confusion_matrix(cm,list(range(10)))\n",
        "      "
      ],
      "execution_count": null,
      "outputs": [
        {
          "output_type": "stream",
          "text": [
            "Confusion matrix, without normalization\n",
            "[[ 967    1    2    1    0    1    2    1    2    3]\n",
            " [   0 1129    1    2    0    1    0    0    2    0]\n",
            " [   1    1 1008    5    3    0    2    5    6    1]\n",
            " [   0    0    2  994    0    5    0    2    1    6]\n",
            " [   0    0    1    1  970    0    2    1    0    7]\n",
            " [   1    0    0   10    1  874    1    0    3    2]\n",
            " [   2    2    0    1    5    6  940    0    2    0]\n",
            " [   1    2    8    4    0    0    0 1008    1    4]\n",
            " [   3    0    2   12    4    8    0    6  935    4]\n",
            " [   1    3    0    2    8    3    0    2    0  990]]\n"
          ],
          "name": "stdout"
        },
        {
          "output_type": "display_data",
          "data": {
            "image/png": "[encoded data removed]",
            "text/plain": [
              "<Figure size 432x288 with 1 Axes>"
            ]
          },
          "metadata": {
            "tags": [],
            "needs_background": "light"
          }
        }
      ]
    },
    {
      "cell_type": "code",
      "metadata": {
        "id": "oJaac8jCjLf5",
        "colab": {
          "base_uri": "https://localhost:8080/",
          "height": 298
        },
        "outputId": "03904a0b-7654-419b-f89d-4e35414ea1c1"
      },
      "source": [
        "#show misclassified examples\n",
        "\n",
        "misclassified_idx= np.where(p_test!=y_test)[0]\n",
        "i= np.random.choice(misclassified_idx)\n",
        "plt.imshow(x_test[i],cmap='gray')\n",
        "plt.title('True label : %s Predicted : %s' % (y_test[i],p_test[i]))"
      ],
      "execution_count": null,
      "outputs": [
        {
          "output_type": "execute_result",
          "data": {
            "text/plain": [
              "Text(0.5, 1.0, 'True label : 2 Predicted : 3')"
            ]
          },
          "metadata": {
            "tags": []
          },
          "execution_count": 56
        },
        {
          "output_type": "display_data",
          "data": {
            "image/png": "[encoded data removed]",
            "text/plain": [
              "<Figure size 432x288 with 1 Axes>"
            ]
          },
          "metadata": {
            "tags": [],
            "needs_background": "light"
          }
        }
      ]
    }
  ]
}