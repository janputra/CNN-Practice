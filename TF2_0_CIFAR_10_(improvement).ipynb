{
  "nbformat": 4,
  "nbformat_minor": 0,
  "metadata": {
    "colab": {
      "name": "TF2.0 CIFAR-10 (improvement).ipynb",
      "provenance": [],
      "authorship_tag": "ABX9TyMRVjefXLmReDJA/dpui5K/",
      "include_colab_link": true
    },
    "kernelspec": {
      "name": "python3",
      "display_name": "Python 3"
    },
    "accelerator": "GPU"
  },
  "cells": [
    {
      "cell_type": "markdown",
      "metadata": {
        "id": "view-in-github",
        "colab_type": "text"
      },
      "source": [
        "<a href=\"https://colab.research.google.com/github/janputra/Neural-Networks-Practice/blob/main/TF2_0_CIFAR_10_(improvement).ipynb\" target=\"_parent\"><img src=\"https://colab.research.google.com/assets/colab-badge.svg\" alt=\"Open In Colab\"/></a>"
      ]
    },
    {
      "cell_type": "code",
      "metadata": {
        "id": "aE6xMEWgscOz"
      },
      "source": [
        "import tensorflow as tf\n",
        "import numpy as np\n",
        "import matplotlib.pyplot as plt\n",
        "from tensorflow.keras.layers import Input, Conv2D, MaxPooling2D, Dropout, Dense, Flatten, BatchNormalization\n",
        "from tensorflow.keras.models import Model"
      ],
      "execution_count": null,
      "outputs": []
    },
    {
      "cell_type": "code",
      "metadata": {
        "id": "57U5Gy1vs_WY",
        "colab": {
          "base_uri": "https://localhost:8080/",
          "height": 51
        },
        "outputId": "fb699631-b348-425e-874e-2cb315b03c1c"
      },
      "source": [
        "cifar10= tf.keras.datasets.cifar10\n",
        "\n",
        "(x_train, y_train), (x_test, y_test)= cifar10.load_data()\n",
        "x_train, x_test=x_train/255.0, x_test/255.0\n",
        "y_train, y_test= y_train.flatten(), y_test.flatten()\n",
        "print('x_train shape :', x_train.shape)\n",
        "print('y_train shape :', y_train.shape)"
      ],
      "execution_count": null,
      "outputs": [
        {
          "output_type": "stream",
          "text": [
            "x_train shape : (50000, 32, 32, 3)\n",
            "y_train shape : (50000,)\n"
          ],
          "name": "stdout"
        }
      ]
    },
    {
      "cell_type": "code",
      "metadata": {
        "id": "clnYVbButqft",
        "colab": {
          "base_uri": "https://localhost:8080/",
          "height": 34
        },
        "outputId": "b61d24a6-fa54-4579-db09-fea8eda571d3"
      },
      "source": [
        "K= len(set(y_train))\n",
        "print('Number of Class : ',K)"
      ],
      "execution_count": null,
      "outputs": [
        {
          "output_type": "stream",
          "text": [
            "Number of Class :  10\n"
          ],
          "name": "stdout"
        }
      ]
    },
    {
      "cell_type": "code",
      "metadata": {
        "id": "x7PZmlbxt04t"
      },
      "source": [
        "i=Input(shape=x_train[0].shape)\n",
        "x= Conv2D(32,(5,5), padding='same',activation='relu')(i)\n",
        "x = BatchNormalization()(x)\n",
        "x= Conv2D(32,(5,5), padding='same',activation='relu')(x)\n",
        "x = BatchNormalization()(x)\n",
        "x= Conv2D(32,(5,5), padding='same',activation='relu')(x)\n",
        "x = BatchNormalization()(x)\n",
        "x= MaxPooling2D((2,2))(x)\n",
        "# x=Dropout(0.2)(x)\n",
        "x= Conv2D(48,(5,5), padding='same',activation='relu')(x)\n",
        "x = BatchNormalization()(x)\n",
        "x= Conv2D(56,(5,5), padding='same',activation='relu')(x)\n",
        "x = BatchNormalization()(x)\n",
        "x= Conv2D(72,(5,5), padding='same',activation='relu')(x)\n",
        "x = BatchNormalization()(x)\n",
        "x= MaxPooling2D((2,2))(x)\n",
        "# x=Dropout(0.2)(x)\n",
        "x= Conv2D(80,(3,3), padding='same',activation='relu')(x)\n",
        "x = BatchNormalization()(x)\n",
        "x= Conv2D(96,(3,3), padding='same',activation='relu')(x)\n",
        "x = BatchNormalization()(x)\n",
        "x= Conv2D(128,(3,3), padding='same',activation='relu')(x)\n",
        "x = BatchNormalization()(x)\n",
        "x= MaxPooling2D((2,2))(x)\n",
        "# x=Dropout(0.2)(x)\n",
        "x= Flatten()(x)\n",
        "x=Dropout(0.2)(x)\n",
        "x= Dense(1024,activation='relu')(x)\n",
        "x=Dropout(0.2)(x)\n",
        "x=Dense(K, activation='softmax')(x)\n",
        "\n",
        "model= Model(i,x)\n",
        "\n",
        "model.compile(optimizer='adam', loss='sparse_categorical_crossentropy',metrics=['accuracy'])"
      ],
      "execution_count": null,
      "outputs": []
    },
    {
      "cell_type": "code",
      "metadata": {
        "id": "ty5g3EGBur7y"
      },
      "source": [
        "\n",
        "# r=model.fit(x_train,y_train,validation_data=(x_test,y_test),epochs=5)"
      ],
      "execution_count": null,
      "outputs": []
    },
    {
      "cell_type": "code",
      "metadata": {
        "id": "Rx4-77a0ygsw",
        "colab": {
          "base_uri": "https://localhost:8080/",
          "height": 887
        },
        "outputId": "9a753913-2679-481c-f67b-d3d3f6796dd4"
      },
      "source": [
        "batch_size = 32\n",
        "data_generator = tf.keras.preprocessing.image.ImageDataGenerator(width_shift_range=0.1, height_shift_range=0.1, horizontal_flip=True)\n",
        "train_generator = data_generator.flow(x_train, y_train, batch_size)\n",
        "steps_per_epoch = x_train.shape[0] // batch_size\n",
        "r = model.fit(train_generator, validation_data=(x_test, y_test), steps_per_epoch=steps_per_epoch, epochs=25)"
      ],
      "execution_count": null,
      "outputs": [
        {
          "output_type": "stream",
          "text": [
            "Epoch 1/25\n",
            "1562/1562 [==============================] - 28s 18ms/step - loss: 1.6448 - accuracy: 0.4215 - val_loss: 1.7192 - val_accuracy: 0.4716\n",
            "Epoch 2/25\n",
            "1562/1562 [==============================] - 28s 18ms/step - loss: 1.1697 - accuracy: 0.5885 - val_loss: 0.9846 - val_accuracy: 0.6597\n",
            "Epoch 3/25\n",
            "1562/1562 [==============================] - 28s 18ms/step - loss: 0.9682 - accuracy: 0.6659 - val_loss: 1.0381 - val_accuracy: 0.6575\n",
            "Epoch 4/25\n",
            "1562/1562 [==============================] - 28s 18ms/step - loss: 0.8562 - accuracy: 0.7067 - val_loss: 0.8931 - val_accuracy: 0.7053\n",
            "Epoch 5/25\n",
            "1562/1562 [==============================] - 28s 18ms/step - loss: 0.7587 - accuracy: 0.7421 - val_loss: 0.7297 - val_accuracy: 0.7519\n",
            "Epoch 6/25\n",
            "1562/1562 [==============================] - 28s 18ms/step - loss: 0.6951 - accuracy: 0.7635 - val_loss: 0.8388 - val_accuracy: 0.7341\n",
            "Epoch 7/25\n",
            "1562/1562 [==============================] - 28s 18ms/step - loss: 0.6323 - accuracy: 0.7869 - val_loss: 0.6930 - val_accuracy: 0.7651\n",
            "Epoch 8/25\n",
            "1562/1562 [==============================] - 28s 18ms/step - loss: 0.5888 - accuracy: 0.8016 - val_loss: 0.5623 - val_accuracy: 0.8110\n",
            "Epoch 9/25\n",
            "1562/1562 [==============================] - 28s 18ms/step - loss: 0.5477 - accuracy: 0.8147 - val_loss: 0.5701 - val_accuracy: 0.8076\n",
            "Epoch 10/25\n",
            "1562/1562 [==============================] - 28s 18ms/step - loss: 0.5129 - accuracy: 0.8252 - val_loss: 0.5130 - val_accuracy: 0.8288\n",
            "Epoch 11/25\n",
            "1562/1562 [==============================] - 28s 18ms/step - loss: 0.4825 - accuracy: 0.8377 - val_loss: 0.6100 - val_accuracy: 0.7963\n",
            "Epoch 12/25\n",
            "1562/1562 [==============================] - 28s 18ms/step - loss: 0.4581 - accuracy: 0.8434 - val_loss: 0.5418 - val_accuracy: 0.8236\n",
            "Epoch 13/25\n",
            "1562/1562 [==============================] - 28s 18ms/step - loss: 0.4322 - accuracy: 0.8527 - val_loss: 0.4582 - val_accuracy: 0.8504\n",
            "Epoch 14/25\n",
            "1562/1562 [==============================] - 28s 18ms/step - loss: 0.4118 - accuracy: 0.8593 - val_loss: 0.4787 - val_accuracy: 0.8452\n",
            "Epoch 15/25\n",
            "1562/1562 [==============================] - 28s 18ms/step - loss: 0.3946 - accuracy: 0.8658 - val_loss: 0.4627 - val_accuracy: 0.8448\n",
            "Epoch 16/25\n",
            "1562/1562 [==============================] - 28s 18ms/step - loss: 0.3810 - accuracy: 0.8694 - val_loss: 0.4594 - val_accuracy: 0.8467\n",
            "Epoch 17/25\n",
            "1562/1562 [==============================] - 28s 18ms/step - loss: 0.3631 - accuracy: 0.8765 - val_loss: 0.4686 - val_accuracy: 0.8470\n",
            "Epoch 18/25\n",
            "1562/1562 [==============================] - 28s 18ms/step - loss: 0.3511 - accuracy: 0.8807 - val_loss: 0.4723 - val_accuracy: 0.8467\n",
            "Epoch 19/25\n",
            "1562/1562 [==============================] - 28s 18ms/step - loss: 0.3346 - accuracy: 0.8857 - val_loss: 0.4589 - val_accuracy: 0.8521\n",
            "Epoch 20/25\n",
            "1562/1562 [==============================] - 28s 18ms/step - loss: 0.3291 - accuracy: 0.8882 - val_loss: 0.5376 - val_accuracy: 0.8334\n",
            "Epoch 21/25\n",
            "1562/1562 [==============================] - 28s 18ms/step - loss: 0.3142 - accuracy: 0.8927 - val_loss: 0.4415 - val_accuracy: 0.8519\n",
            "Epoch 22/25\n",
            "1562/1562 [==============================] - 28s 18ms/step - loss: 0.3021 - accuracy: 0.8962 - val_loss: 0.4456 - val_accuracy: 0.8557\n",
            "Epoch 23/25\n",
            "1562/1562 [==============================] - 28s 18ms/step - loss: 0.2978 - accuracy: 0.8980 - val_loss: 0.4328 - val_accuracy: 0.8607\n",
            "Epoch 24/25\n",
            "1562/1562 [==============================] - 28s 18ms/step - loss: 0.2868 - accuracy: 0.9027 - val_loss: 0.4302 - val_accuracy: 0.8653\n",
            "Epoch 25/25\n",
            "1562/1562 [==============================] - 29s 18ms/step - loss: 0.2752 - accuracy: 0.9057 - val_loss: 0.4827 - val_accuracy: 0.8521\n"
          ],
          "name": "stdout"
        }
      ]
    },
    {
      "cell_type": "code",
      "metadata": {
        "id": "mSW1AFqwvy0z",
        "colab": {
          "base_uri": "https://localhost:8080/",
          "height": 282
        },
        "outputId": "b22321c3-1812-4895-8c31-0e515cfb7ebf"
      },
      "source": [
        "hist =r.history\n",
        "\n",
        "plt.plot(hist['loss'],label='loss')\n",
        "plt.plot(hist['val_loss'],label='val_loss')\n",
        "plt.legend()"
      ],
      "execution_count": null,
      "outputs": [
        {
          "output_type": "execute_result",
          "data": {
            "text/plain": [
              "<matplotlib.legend.Legend at 0x7fbb8e55cba8>"
            ]
          },
          "metadata": {
            "tags": []
          },
          "execution_count": 21
        },
        {
          "output_type": "display_data",
          "data": {
            "image/png": "[encoded data removed]",
            "text/plain": [
              "<Figure size 432x288 with 1 Axes>"
            ]
          },
          "metadata": {
            "tags": [],
            "needs_background": "light"
          }
        }
      ]
    },
    {
      "cell_type": "code",
      "metadata": {
        "id": "K7qg9vW1wWrM",
        "colab": {
          "base_uri": "https://localhost:8080/",
          "height": 282
        },
        "outputId": "62858b08-96e1-44b8-d6c3-f0bf79503ff1"
      },
      "source": [
        "plt.plot(hist['accuracy'],label='accuracy')\n",
        "plt.plot(hist['val_accuracy'],label='val_accuracy')\n",
        "plt.legend()"
      ],
      "execution_count": null,
      "outputs": [
        {
          "output_type": "execute_result",
          "data": {
            "text/plain": [
              "<matplotlib.legend.Legend at 0x7fbb8e4cbba8>"
            ]
          },
          "metadata": {
            "tags": []
          },
          "execution_count": 22
        },
        {
          "output_type": "display_data",
          "data": {
            "image/png": "[encoded data removed]",
            "text/plain": [
              "<Figure size 432x288 with 1 Axes>"
            ]
          },
          "metadata": {
            "tags": [],
            "needs_background": "light"
          }
        }
      ]
    },
    {
      "cell_type": "code",
      "metadata": {
        "id": "HhaJ4lBAqbT7",
        "colab": {
          "base_uri": "https://localhost:8080/",
          "height": 498
        },
        "outputId": "c5eb0ef2-7bf1-4f22-bb1f-15070c947f53"
      },
      "source": [
        "#confussion matrix\n",
        "\n",
        "from sklearn.metrics import confusion_matrix\n",
        "import numpy as np\n",
        "import itertools\n",
        "\n",
        "\n",
        "def plot_confusion_matrix(cm, classes, normalize=False, title='Confusion Matrix', cmap=plt.cm.Blues):\n",
        "\n",
        "\n",
        "  if normalize:\n",
        "    cm= cm.astype('float')/cm.sum(axis=1)[:,np.newaxis]\n",
        "    print(\"Normalized confusion matrix\")\n",
        "  else:\n",
        "    print('Confusion matrix, without normalization')\n",
        "\n",
        "  print(cm)\n",
        "\n",
        "\n",
        "  plt.imshow(cm, interpolation='nearest',cmap=cmap)\n",
        "  plt.title(title)\n",
        "  plt.colorbar\n",
        "  tick_marks= np.arange(len(classes))\n",
        "\n",
        "  plt.xticks(tick_marks, classes, rotation=45)\n",
        "  plt.yticks(tick_marks, classes)\n",
        "\n",
        "  fmt ='.2f' if normalize else 'd'\n",
        "\n",
        "  thresh = cm.max()/2\n",
        "\n",
        "\n",
        "  for i,j in itertools.product(range(cm.shape[0]),range(cm.shape[1])):\n",
        "      plt.text(j,i,format(cm[i,j],fmt),\n",
        "               horizontalalignment='center',\n",
        "               color='white' if cm[i,j]>thresh else 'black')\n",
        "      \n",
        "  plt.tight_layout()\n",
        "  plt.ylabel('True label')\n",
        "  plt.xlabel('Predicted label')\n",
        "\n",
        "  plt.show()\n",
        "\n",
        "\n",
        "p_test=model.predict(x_test).argmax(axis=1)\n",
        "cm= confusion_matrix(y_test, p_test)\n",
        "\n",
        "plot_confusion_matrix(cm,list(range(10)))"
      ],
      "execution_count": null,
      "outputs": [
        {
          "output_type": "stream",
          "text": [
            "Confusion matrix, without normalization\n",
            "[[852   7  41   6   3   0  11   4  64  12]\n",
            " [  3 963   2   0   0   0   5   0  10  17]\n",
            " [ 28   0 835  15  32  11  49  10  17   3]\n",
            " [ 21   5  60 692  34  41 107  15  20   5]\n",
            " [ 11   2  49  17 848   3  51  15   4   0]\n",
            " [  8   1  57 144  33 650  59  27  14   7]\n",
            " [  2   2  23   4   4   1 960   1   3   0]\n",
            " [ 14   0  23  13  35  12  11 879   6   7]\n",
            " [ 16   8   4   0   2   0   5   0 957   8]\n",
            " [ 11  50   2   2   0   0   9   2  39 885]]\n"
          ],
          "name": "stdout"
        },
        {
          "output_type": "display_data",
          "data": {
            "image/png": "[encoded data removed]",
            "text/plain": [
              "<Figure size 432x288 with 1 Axes>"
            ]
          },
          "metadata": {
            "tags": [],
            "needs_background": "light"
          }
        }
      ]
    },
    {
      "cell_type": "code",
      "metadata": {
        "id": "jlo6WEu1q9mt"
      },
      "source": [
        "# label mapping\n",
        "labels = '''airplane\n",
        "automobile\n",
        "bird\n",
        "cat\n",
        "deer\n",
        "dog\n",
        "frog\n",
        "horse\n",
        "ship\n",
        "truck'''.split()"
      ],
      "execution_count": null,
      "outputs": []
    },
    {
      "cell_type": "code",
      "metadata": {
        "id": "ymOdy0heq2kV",
        "colab": {
          "base_uri": "https://localhost:8080/",
          "height": 298
        },
        "outputId": "1ca930ee-d8be-4632-ae47-dcf2bf25f825"
      },
      "source": [
        "#show misclassified examples\n",
        "\n",
        "misclassified_idx= np.where(p_test!=y_test)[0]\n",
        "i= np.random.choice(misclassified_idx)\n",
        "plt.imshow(x_test[i],cmap='gray')\n",
        "plt.title('True label : %s Predicted : %s' % (labels[y_test[i]],labels[p_test[i]]))"
      ],
      "execution_count": null,
      "outputs": [
        {
          "output_type": "execute_result",
          "data": {
            "text/plain": [
              "Text(0.5, 1.0, 'True label : bird Predicted : airplane')"
            ]
          },
          "metadata": {
            "tags": []
          },
          "execution_count": 25
        },
        {
          "output_type": "display_data",
          "data": {
            "image/png": "[encoded data removed]",
            "text/plain": [
              "<Figure size 432x288 with 1 Axes>"
            ]
          },
          "metadata": {
            "tags": [],
            "needs_background": "light"
          }
        }
      ]
    },
    {
      "cell_type": "code",
      "metadata": {
        "id": "o43qdEOOxZjg",
        "colab": {
          "base_uri": "https://localhost:8080/",
          "height": 1000
        },
        "outputId": "8e8f24f9-42ba-4866-989a-5951b367dbb8"
      },
      "source": [
        "model.summary()"
      ],
      "execution_count": null,
      "outputs": [
        {
          "output_type": "stream",
          "text": [
            "Model: \"functional_5\"\n",
            "_________________________________________________________________\n",
            "Layer (type)                 Output Shape              Param #   \n",
            "=================================================================\n",
            "input_3 (InputLayer)         [(None, 32, 32, 3)]       0         \n",
            "_________________________________________________________________\n",
            "conv2d_18 (Conv2D)           (None, 32, 32, 32)        2432      \n",
            "_________________________________________________________________\n",
            "batch_normalization_18 (Batc (None, 32, 32, 32)        128       \n",
            "_________________________________________________________________\n",
            "conv2d_19 (Conv2D)           (None, 32, 32, 32)        25632     \n",
            "_________________________________________________________________\n",
            "batch_normalization_19 (Batc (None, 32, 32, 32)        128       \n",
            "_________________________________________________________________\n",
            "conv2d_20 (Conv2D)           (None, 32, 32, 32)        25632     \n",
            "_________________________________________________________________\n",
            "batch_normalization_20 (Batc (None, 32, 32, 32)        128       \n",
            "_________________________________________________________________\n",
            "max_pooling2d_6 (MaxPooling2 (None, 16, 16, 32)        0         \n",
            "_________________________________________________________________\n",
            "conv2d_21 (Conv2D)           (None, 16, 16, 48)        38448     \n",
            "_________________________________________________________________\n",
            "batch_normalization_21 (Batc (None, 16, 16, 48)        192       \n",
            "_________________________________________________________________\n",
            "conv2d_22 (Conv2D)           (None, 16, 16, 56)        67256     \n",
            "_________________________________________________________________\n",
            "batch_normalization_22 (Batc (None, 16, 16, 56)        224       \n",
            "_________________________________________________________________\n",
            "conv2d_23 (Conv2D)           (None, 16, 16, 72)        100872    \n",
            "_________________________________________________________________\n",
            "batch_normalization_23 (Batc (None, 16, 16, 72)        288       \n",
            "_________________________________________________________________\n",
            "max_pooling2d_7 (MaxPooling2 (None, 8, 8, 72)          0         \n",
            "_________________________________________________________________\n",
            "conv2d_24 (Conv2D)           (None, 8, 8, 80)          51920     \n",
            "_________________________________________________________________\n",
            "batch_normalization_24 (Batc (None, 8, 8, 80)          320       \n",
            "_________________________________________________________________\n",
            "conv2d_25 (Conv2D)           (None, 8, 8, 96)          69216     \n",
            "_________________________________________________________________\n",
            "batch_normalization_25 (Batc (None, 8, 8, 96)          384       \n",
            "_________________________________________________________________\n",
            "conv2d_26 (Conv2D)           (None, 8, 8, 128)         110720    \n",
            "_________________________________________________________________\n",
            "batch_normalization_26 (Batc (None, 8, 8, 128)         512       \n",
            "_________________________________________________________________\n",
            "max_pooling2d_8 (MaxPooling2 (None, 4, 4, 128)         0         \n",
            "_________________________________________________________________\n",
            "flatten_2 (Flatten)          (None, 2048)              0         \n",
            "_________________________________________________________________\n",
            "dropout_4 (Dropout)          (None, 2048)              0         \n",
            "_________________________________________________________________\n",
            "dense_4 (Dense)              (None, 1024)              2098176   \n",
            "_________________________________________________________________\n",
            "dropout_5 (Dropout)          (None, 1024)              0         \n",
            "_________________________________________________________________\n",
            "dense_5 (Dense)              (None, 10)                10250     \n",
            "=================================================================\n",
            "Total params: 2,602,858\n",
            "Trainable params: 2,601,706\n",
            "Non-trainable params: 1,152\n",
            "_________________________________________________________________\n"
          ],
          "name": "stdout"
        }
      ]
    }
  ]
}