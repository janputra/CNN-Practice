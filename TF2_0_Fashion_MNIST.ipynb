{
  "nbformat": 4,
  "nbformat_minor": 0,
  "metadata": {
    "colab": {
      "name": "TF2.0 Fashion MNIST.ipynb",
      "provenance": [],
      "collapsed_sections": [],
      "authorship_tag": "ABX9TyMoktoDwe6OXIFN5OcvS0Cp",
      "include_colab_link": true
    },
    "kernelspec": {
      "name": "python3",
      "display_name": "Python 3"
    },
    "accelerator": "GPU"
  },
  "cells": [
    {
      "cell_type": "markdown",
      "metadata": {
        "id": "view-in-github",
        "colab_type": "text"
      },
      "source": [
        "<a href=\"https://colab.research.google.com/github/janputra/Neural-Networks-Practice/blob/main/TF2_0_Fashion_MNIST.ipynb\" target=\"_parent\"><img src=\"https://colab.research.google.com/assets/colab-badge.svg\" alt=\"Open In Colab\"/></a>"
      ]
    },
    {
      "cell_type": "code",
      "metadata": {
        "id": "yarF3zUxSBSk"
      },
      "source": [
        "import tensorflow as tf\n",
        "import numpy as np\n",
        "import matplotlib.pyplot as plt\n",
        "from tensorflow.keras.layers import Input, Conv2D, Dense, Flatten, Dropout,MaxPooling2D\n",
        "from tensorflow.keras.models import Model"
      ],
      "execution_count": null,
      "outputs": []
    },
    {
      "cell_type": "code",
      "metadata": {
        "id": "-b0bEYSuSsbI",
        "colab": {
          "base_uri": "https://localhost:8080/",
          "height": 34
        },
        "outputId": "88d22ff1-1aee-4d40-c682-c41a54162b5d"
      },
      "source": [
        "fashion_mnist = tf.keras.datasets.fashion_mnist\n",
        "\n",
        "(x_train, y_train), (x_test, y_test)= fashion_mnist.load_data()\n",
        "x_train, x_test= x_train/255.0, x_test/255.0\n",
        "print('trainind data set size :', x_train.shape)"
      ],
      "execution_count": null,
      "outputs": [
        {
          "output_type": "stream",
          "text": [
            "trainind data set size : (60000, 28, 28)\n"
          ],
          "name": "stdout"
        }
      ]
    },
    {
      "cell_type": "code",
      "metadata": {
        "id": "-1kavsmuYRye",
        "colab": {
          "base_uri": "https://localhost:8080/",
          "height": 51
        },
        "outputId": "03229324-407b-42bc-a50d-e2938c909b88"
      },
      "source": [
        "# the data need to be in 3D format including color channel, therefore for grayscale it should be transformed\n",
        "x_train = np.expand_dims(x_train, -1)\n",
        "x_test = np.expand_dims(x_test,-1)\n",
        "print(x_train.shape)\n",
        "print(x_test.shape)"
      ],
      "execution_count": null,
      "outputs": [
        {
          "output_type": "stream",
          "text": [
            "(60000, 28, 28, 1)\n",
            "(10000, 28, 28, 1)\n"
          ],
          "name": "stdout"
        }
      ]
    },
    {
      "cell_type": "code",
      "metadata": {
        "id": "aZBw00Y4iOVT",
        "colab": {
          "base_uri": "https://localhost:8080/",
          "height": 34
        },
        "outputId": "3e388fe5-96b5-4de8-86c1-618de8d016fa"
      },
      "source": [
        "K= len(set(y_train))\n",
        "print('number of classes : ', K)"
      ],
      "execution_count": null,
      "outputs": [
        {
          "output_type": "stream",
          "text": [
            "number of classes :  10\n"
          ],
          "name": "stdout"
        }
      ]
    },
    {
      "cell_type": "code",
      "metadata": {
        "id": "ftOSmetMmQgT",
        "colab": {
          "base_uri": "https://localhost:8080/",
          "height": 34
        },
        "outputId": "8d2d3413-1c59-4150-acd8-70d4b707a9fb"
      },
      "source": [
        "print(y_train)"
      ],
      "execution_count": null,
      "outputs": [
        {
          "output_type": "stream",
          "text": [
            "[9 0 0 ... 3 0 5]\n"
          ],
          "name": "stdout"
        }
      ]
    },
    {
      "cell_type": "code",
      "metadata": {
        "id": "Q1rdCd9gieH0"
      },
      "source": [
        "i = Input(shape=x_train[0].shape)\n",
        "x= Conv2D(32, (3,3), padding='same', activation='relu')(i)\n",
        "x= MaxPooling2D((2,2))(x)\n",
        "x=Conv2D(64,(3,3),padding='same', activation='relu')(x)\n",
        "x=MaxPooling2D((2,2))(x)\n",
        "x=Conv2D(128,(3,3),padding='same',activation='relu')(x)\n",
        "x=MaxPooling2D((2,2))(x)\n",
        "x=Flatten()(x)\n",
        "x=Dropout(0.2)(x)\n",
        "x=Dense(512,activation='relu')(x)\n",
        "x=Dropout(0.2)(x)\n",
        "x=Dense(K, activation='softmax')(x)\n",
        "\n",
        "model=Model(i,x)\n",
        "\n"
      ],
      "execution_count": null,
      "outputs": []
    },
    {
      "cell_type": "code",
      "metadata": {
        "id": "g_sXfPeKm1P5",
        "colab": {
          "base_uri": "https://localhost:8080/",
          "height": 377
        },
        "outputId": "eb854298-bb91-4540-c336-b6bfb5bcc63d"
      },
      "source": [
        "model.compile(optimizer='adam', loss='sparse_categorical_crossentropy', metrics=['accuracy'])\n",
        "r=model.fit(x_train,y_train, validation_data=(x_test,y_test),epochs=10)"
      ],
      "execution_count": null,
      "outputs": [
        {
          "output_type": "stream",
          "text": [
            "Epoch 1/10\n",
            "1875/1875 [==============================] - 12s 7ms/step - loss: 0.4369 - accuracy: 0.8384 - val_loss: 0.3071 - val_accuracy: 0.8841\n",
            "Epoch 2/10\n",
            "1875/1875 [==============================] - 12s 6ms/step - loss: 0.2830 - accuracy: 0.8953 - val_loss: 0.2893 - val_accuracy: 0.8928\n",
            "Epoch 3/10\n",
            "1875/1875 [==============================] - 11s 6ms/step - loss: 0.2406 - accuracy: 0.9106 - val_loss: 0.2606 - val_accuracy: 0.9036\n",
            "Epoch 4/10\n",
            "1875/1875 [==============================] - 11s 6ms/step - loss: 0.2126 - accuracy: 0.9193 - val_loss: 0.2403 - val_accuracy: 0.9142\n",
            "Epoch 5/10\n",
            "1875/1875 [==============================] - 11s 6ms/step - loss: 0.1939 - accuracy: 0.9278 - val_loss: 0.2289 - val_accuracy: 0.9160\n",
            "Epoch 6/10\n",
            "1875/1875 [==============================] - 11s 6ms/step - loss: 0.1749 - accuracy: 0.9344 - val_loss: 0.2259 - val_accuracy: 0.9192\n",
            "Epoch 7/10\n",
            "1875/1875 [==============================] - 11s 6ms/step - loss: 0.1598 - accuracy: 0.9397 - val_loss: 0.2283 - val_accuracy: 0.9208\n",
            "Epoch 8/10\n",
            "1875/1875 [==============================] - 11s 6ms/step - loss: 0.1460 - accuracy: 0.9446 - val_loss: 0.2406 - val_accuracy: 0.9201\n",
            "Epoch 9/10\n",
            "1875/1875 [==============================] - 11s 6ms/step - loss: 0.1340 - accuracy: 0.9488 - val_loss: 0.2316 - val_accuracy: 0.9209\n",
            "Epoch 10/10\n",
            "1875/1875 [==============================] - 11s 6ms/step - loss: 0.1245 - accuracy: 0.9532 - val_loss: 0.2625 - val_accuracy: 0.9204\n"
          ],
          "name": "stdout"
        }
      ]
    },
    {
      "cell_type": "code",
      "metadata": {
        "id": "x0K5hdg9pSOP",
        "colab": {
          "base_uri": "https://localhost:8080/",
          "height": 285
        },
        "outputId": "1e16e49e-f721-404b-8cc8-ff9e9b9928a2"
      },
      "source": [
        "hist=r.history\n",
        "\n",
        "plt.plot(hist['loss'],label='loss')\n",
        "plt.plot(hist['val_loss'],label='val_loss')\n",
        "plt.legend()"
      ],
      "execution_count": null,
      "outputs": [
        {
          "output_type": "execute_result",
          "data": {
            "text/plain": [
              "<matplotlib.legend.Legend at 0x7efe1e07d278>"
            ]
          },
          "metadata": {
            "tags": []
          },
          "execution_count": 9
        },
        {
          "output_type": "display_data",
          "data": {
            "image/png": "[encoded data removed]",
            "text/plain": [
              "<Figure size 432x288 with 1 Axes>"
            ]
          },
          "metadata": {
            "tags": [],
            "needs_background": "light"
          }
        }
      ]
    },
    {
      "cell_type": "code",
      "metadata": {
        "id": "H7OGhsE6ptLN",
        "colab": {
          "base_uri": "https://localhost:8080/",
          "height": 282
        },
        "outputId": "620967cb-a8cc-42bd-8903-17d037e853a4"
      },
      "source": [
        "plt.plot(hist['accuracy'],label='accuracy')\n",
        "plt.plot(hist['val_accuracy'],label='val_accuracy')\n",
        "plt.legend()"
      ],
      "execution_count": null,
      "outputs": [
        {
          "output_type": "execute_result",
          "data": {
            "text/plain": [
              "<matplotlib.legend.Legend at 0x7efe1db55e10>"
            ]
          },
          "metadata": {
            "tags": []
          },
          "execution_count": 11
        },
        {
          "output_type": "display_data",
          "data": {
            "image/png": "[encoded data removed]",
            "text/plain": [
              "<Figure size 432x288 with 1 Axes>"
            ]
          },
          "metadata": {
            "tags": [],
            "needs_background": "light"
          }
        }
      ]
    },
    {
      "cell_type": "code",
      "metadata": {
        "id": "HhaJ4lBAqbT7",
        "colab": {
          "base_uri": "https://localhost:8080/",
          "height": 498
        },
        "outputId": "c852eba6-803e-418c-d7ed-bf066896bf7b"
      },
      "source": [
        "#confussion matrix\n",
        "\n",
        "from sklearn.metrics import confusion_matrix\n",
        "import numpy as np\n",
        "import itertools\n",
        "\n",
        "\n",
        "def plot_confusion_matrix(cm, classes, normalize=False, title='Confusion Matrix', cmap=plt.cm.Blues):\n",
        "\n",
        "\n",
        "  if normalize:\n",
        "    cm= cm.astype('float')/cm.sum(axis=1)[:,np.newaxis]\n",
        "    print(\"Normalized confusion matrix\")\n",
        "  else:\n",
        "    print('Confusion matrix, without normalization')\n",
        "\n",
        "  print(cm)\n",
        "\n",
        "\n",
        "  plt.imshow(cm, interpolation='nearest',cmap=cmap)\n",
        "  plt.title(title)\n",
        "  plt.colorbar\n",
        "  tick_marks= np.arange(len(classes))\n",
        "\n",
        "  plt.xticks(tick_marks, classes, rotation=45)\n",
        "  plt.yticks(tick_marks, classes)\n",
        "\n",
        "  fmt ='.2f' if normalize else 'd'\n",
        "\n",
        "  thresh = cm.max()/2\n",
        "\n",
        "\n",
        "  for i,j in itertools.product(range(cm.shape[0]),range(cm.shape[1])):\n",
        "      plt.text(j,i,format(cm[i,j],fmt),\n",
        "               horizontalalignment='center',\n",
        "               color='white' if cm[i,j]>thresh else 'black')\n",
        "      \n",
        "  plt.tight_layout()\n",
        "  plt.ylabel('True label')\n",
        "  plt.xlabel('Predicted label')\n",
        "\n",
        "  plt.show()\n",
        "\n",
        "\n",
        "p_test=model.predict(x_test).argmax(axis=1)\n",
        "cm= confusion_matrix(y_test, p_test)\n",
        "\n",
        "plot_confusion_matrix(cm,list(range(10)))"
      ],
      "execution_count": null,
      "outputs": [
        {
          "output_type": "stream",
          "text": [
            "Confusion matrix, without normalization\n",
            "[[898   0  18  17   1   1  62   0   3   0]\n",
            " [  4 984   2   7   1   0   1   0   1   0]\n",
            " [ 11   1 919   5  33   0  31   0   0   0]\n",
            " [ 15   1  12 933  23   0  16   0   0   0]\n",
            " [  0   0  75  19 870   1  35   0   0   0]\n",
            " [  0   0   0   0   0 989   0  11   0   0]\n",
            " [116   0  69  25  77   0 709   0   4   0]\n",
            " [  0   0   0   0   0   5   0 988   0   7]\n",
            " [  3   0   0   1   3   4   0   1 988   0]\n",
            " [  0   0   0   0   0  11   0  63   0 926]]\n"
          ],
          "name": "stdout"
        },
        {
          "output_type": "display_data",
          "data": {
            "image/png": "[encoded data removed]",
            "text/plain": [
              "<Figure size 432x288 with 1 Axes>"
            ]
          },
          "metadata": {
            "tags": [],
            "needs_background": "light"
          }
        }
      ]
    },
    {
      "cell_type": "code",
      "metadata": {
        "id": "jlo6WEu1q9mt"
      },
      "source": [
        "# Label mapping\n",
        "labels = '''T-shirt/top\n",
        "Trouser\n",
        "Pullover\n",
        "Dress\n",
        "Coat\n",
        "Sandal\n",
        "Shirt\n",
        "Sneaker\n",
        "Bag\n",
        "Ankle boot'''.split(\"\\n\")"
      ],
      "execution_count": null,
      "outputs": []
    },
    {
      "cell_type": "code",
      "metadata": {
        "id": "ymOdy0heq2kV",
        "colab": {
          "base_uri": "https://localhost:8080/",
          "height": 298
        },
        "outputId": "370fc900-7bbe-4387-fcb1-5145b9901794"
      },
      "source": [
        "#show misclassified examples\n",
        "\n",
        "misclassified_idx= np.where(p_test!=y_test)[0]\n",
        "i= np.random.choice(misclassified_idx)\n",
        "plt.imshow(x_test[i].reshape(28,28),cmap='gray')\n",
        "plt.title('True label : %s Predicted : %s' % (labels[y_test[i]],labels[p_test[i]]))"
      ],
      "execution_count": null,
      "outputs": [
        {
          "output_type": "execute_result",
          "data": {
            "text/plain": [
              "Text(0.5, 1.0, 'True label : Pullover Predicted : Shirt')"
            ]
          },
          "metadata": {
            "tags": []
          },
          "execution_count": 26
        },
        {
          "output_type": "display_data",
          "data": {
            "image/png": "[encoded data removed]",
            "text/plain": [
              "<Figure size 432x288 with 1 Axes>"
            ]
          },
          "metadata": {
            "tags": [],
            "needs_background": "light"
          }
        }
      ]
    }
  ]
}